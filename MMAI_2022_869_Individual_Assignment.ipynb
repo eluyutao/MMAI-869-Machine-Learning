{
 "cells": [
  {
   "cell_type": "markdown",
   "metadata": {
    "id": "HKmorPdno_n_"
   },
   "source": [
    "# MMA/GMMA/MMAI 869: Individual Assignment\n",
    "\n",
    "Version 1: Updated September 27, 2021\n",
    "\n",
    "<font color='red'>\\# TODO: fill in the below</font>\n",
    "\n",
    "- Lucas Lu\n",
    "- 10102688\n",
    "- Section 2\n",
    "- The Moon and Sixpence\n",
    "- Jan 4th, 2022"
   ]
  },
  {
   "cell_type": "markdown",
   "metadata": {
    "id": "emfFtv4aHBI1"
   },
   "source": [
    "# Assignment Instructions\n",
    "\n",
    "This assignment contains four questions. The questions are fully contained in this Google Colab Notebook. \n",
    "\n",
    "You are to make a copy of this Notebook and edit the copy to provide your answers. You are to complete the assignment entirely within Google Colab. Why?\n",
    "\n",
    "- It gives you practice using cloud-based interactive notebook environments (which is a popular workflow)\n",
    "- It is easier for you to manage the environment (e.g., installing packages, etc.)\n",
    "- Google Colab has nice, beefy machines, so you don't have to worry about running out of memory on your local computer.\n",
    "- It will be easier for the TA to help you debug your code if you need help\n",
    "- It will be easier for the TA to mark/run your code\n",
    "\n",
    "Some parts of this assigment require you to write code. Use Python or R. For Python, you may use standard Python libraries, including `scikit-learn`, `pandas`, `numpy`, and `scipy`. For R, you may use `dplyr`, `caret`, `ggplot2`, `rpart` and other standard libraries.\n",
    "\n",
    "Some parts of this assignment require text responses. In these cases, type your response in the Notebook cell indicated. Use English. Use proper grammar, spelling, and punctuation. Be professional and clear. Be complete, but not overly-verbose. Feel free to use [Markdown syntax](https://www.markdownguide.org/basic-syntax/) to format your answer (i.e., add bold, italics, lists, tables).\n",
    "\n",
    "## What to Submit to the Course Portal\n",
    "\n",
    "- Export your completed Notebook as a PDF file by clicking File->Print->Save as PDF.\n",
    "- Please do not submit the Notebook file (`.ipynb`) to the course portal. \n",
    "- Please submit the PDF export of the Notebook. \n",
    "   - Please name the PDF file `2022_869_FirstnameLastName.pdf`\n",
    "      - E.g., `2022_869_StephenThomas.pdf`\n",
    "   - Please make sure you have run all the cells so we can see the output!\n",
    "   - Best practice: Before exporting to PDF click Runtime->Restart and run all.\n",
    "\n"
   ]
  },
  {
   "cell_type": "markdown",
   "metadata": {
    "id": "oZFTCX4DqmRO"
   },
   "source": [
    "# Preliminaries: Inspect and Set up environment\n",
    "\n",
    "No action is required on your part in this section. These cells print out helpful information about the environment, just in case."
   ]
  },
  {
   "cell_type": "code",
   "execution_count": 1,
   "metadata": {
    "id": "xj34Jz-Do_oK"
   },
   "outputs": [],
   "source": [
    "import datetime\n",
    "import pandas as pd\n",
    "import numpy as np"
   ]
  },
  {
   "cell_type": "code",
   "execution_count": 2,
   "metadata": {
    "colab": {
     "base_uri": "https://localhost:8080/",
     "height": 0
    },
    "id": "mqQ_XOKyXTS6",
    "outputId": "f1348723-b7bc-4607-b5b7-046cf80e49db"
   },
   "outputs": [
    {
     "name": "stdout",
     "output_type": "stream",
     "text": [
      "2022-01-12 04:31:19.188069\n"
     ]
    }
   ],
   "source": [
    "print(datetime.datetime.now())"
   ]
  },
  {
   "cell_type": "code",
   "execution_count": 3,
   "metadata": {
    "colab": {
     "base_uri": "https://localhost:8080/",
     "height": 0
    },
    "id": "LfOMt1lErLhZ",
    "outputId": "c8e43b16-b74a-417c-8845-dcef21a9a91d"
   },
   "outputs": [
    {
     "name": "stdout",
     "output_type": "stream",
     "text": [
      "/usr/local/bin/python\n"
     ]
    }
   ],
   "source": [
    "!which python"
   ]
  },
  {
   "cell_type": "code",
   "execution_count": 4,
   "metadata": {
    "colab": {
     "base_uri": "https://localhost:8080/",
     "height": 0
    },
    "id": "aub2w1-arM5K",
    "outputId": "254036ba-5d4b-41a3-9f6a-cef5314cd373"
   },
   "outputs": [
    {
     "name": "stdout",
     "output_type": "stream",
     "text": [
      "Python 3.7.12\n"
     ]
    }
   ],
   "source": [
    "!python --version"
   ]
  },
  {
   "cell_type": "code",
   "execution_count": 5,
   "metadata": {
    "colab": {
     "base_uri": "https://localhost:8080/",
     "height": 0
    },
    "id": "E9Y_n_8UrO9i",
    "outputId": "cb393c64-5dd5-47f9-9846-b51cd01c0b5a"
   },
   "outputs": [
    {
     "name": "stdout",
     "output_type": "stream",
     "text": [
      "/env/python\n"
     ]
    }
   ],
   "source": [
    "!echo $PYTHONPATH"
   ]
  },
  {
   "cell_type": "code",
   "execution_count": 6,
   "metadata": {
    "id": "-qyD7Jl0Gw1E"
   },
   "outputs": [],
   "source": [
    "# TODO: install any packages you need to here. For example:\n",
    "#pip install unidecode"
   ]
  },
  {
   "cell_type": "markdown",
   "metadata": {
    "id": "RLlBjIyS2o54"
   },
   "source": [
    "# Question 1: Uncle Steve's Diamonds"
   ]
  },
  {
   "cell_type": "markdown",
   "metadata": {
    "id": "qj1NSQelo_oN"
   },
   "source": [
    "## Instructions\n",
    "\n",
    "You work at a local jewelry store named *Uncle Steve's Diamonds*. You started as a janitor, but you’ve recently been promoted to senior data analyst! Congratulations.\n",
    "\n",
    "Uncle Steve, the store's owner, needs to better understand the store's customers. In particular, he wants to know what kind of customers shop at the store. He wants to know the main types of *customer personas*. Once he knows these, he will contemplate ways to better market to each persona, better satisfy each persona, better cater to each persona, increase the loyalty of each persona, etc. But first, he must know the personas.\n",
    "\n",
    "You want to help Uncle Steve. Using sneaky magic (and the help of Environics), you've collected four useful features for a subset of the customers: age, income, spending score (i.e., a score based on how much they’ve spent at the store in total), and savings (i.e., how much money they have in their personal bank account). \n",
    "\n",
    "**Your tasks**\n",
    "\n",
    "1. Pick a clustering algorithm (the [`sklearn.cluster`](https://scikit-learn.org/stable/modules/classes.html#module-sklearn.cluster) module has many good choices, including [`KMeans`](https://scikit-learn.org/stable/modules/generated/sklearn.cluster.KMeans.html#sklearn.cluster.KMeans), [`DBSCAN`](https://scikit-learn.org/stable/modules/generated/sklearn.cluster.DBSCAN.html#sklearn.cluster.DBSCAN), and [`AgglomerativeClustering`](https://scikit-learn.org/stable/modules/generated/sklearn.cluster.AgglomerativeClustering.html#sklearn.cluster.AgglomerativeClustering) (aka Hierarchical)). (Note that another popular implementation of the hierarchical algorithm can be found in SciPy's [`scipy.cluster.hierarchy.linkage`](https://docs.scipy.org/doc/scipy/reference/generated/scipy.cluster.hierarchy.linkage.html).) Don't spend a lot of time thinking about which algorithm to choose - just pick one. Cluster the customers as best as you can, within reason. That is, try different feature preprocessing steps, hyperparameter values, and/or distance metrics. You don't need to try every posssible combination, but try a few at least. Measure how good each  model configuration is by calculating an internal validation metric (e.g., [`calinski_harabasz_score`](https://scikit-learn.org/stable/modules/generated/sklearn.metrics.calinski_harabasz_score.html) or [`silhouette_score`](https://scikit-learn.org/stable/modules/generated/sklearn.metrics.silhouette_score.html#sklearn.metrics.silhouette_score)).\n",
    "2. You have some doubts - you're not sure if the algorithm you chose in part 1 is the best algorithm for this dataset/problem. Neither is Uncle Steve. So, choose a different algorithm (any!) and do it all again.\n",
    "3. Which clustering algorithm is \"better\" in this case? Think about charateristics of the algorithm like quality of results, ease of use, speed, interpretability, etc. Choose a \"winner\" and justify to Uncle Steve.\n",
    "4. Interpret the clusters of the winning model. That is, describe, in words, a *persona* that accurately depicts each cluster. Use statistics (e.g., cluster means/distributions), examples (e.g., exemplar instances from each cluster), and/or visualizations (e.g., relative importance plots, snakeplots) to get started. Human judgement and creativity will be necessary. This is where it all comes together. Be descriptive and *help Uncle Steve understand his customers better*. Please!\n",
    "\n",
    "**Marking**\n",
    "\n",
    "The coding parts (i.e., 1 and 2) will be marked based on:\n",
    "\n",
    "- *Correctness*. Code clearly and fully performs the task specified.\n",
    "- *Reproducibility*. Code is fully reproducible. I.e., you (and I) are able to run this Notebook again and again, from top to bottom, and get the same results each time.\n",
    "- *Style*. Code is organized. All parts commented with clear reasoning and rationale. No old code laying around. Code easy to follow.\n",
    "\n",
    "\n",
    "Parts 3 and 4 will be marked on:\n",
    "\n",
    "- *Quality*. Response is well-justified and convincing. Responses uses facts and data where possible.\n",
    "- *Style*. Response uses proper grammar, spelling, and punctuation. Response is clear and professional. Response is complete, but not overly-verbose. Response follows length guidelines.\n",
    "\n",
    "\n",
    "**Tips**\n",
    "\n",
    "- Since clustering is an unsupervised ML technique, you don't need to split the data into training/validation/test or anything like that. Phew!\n",
    "- On the flip side, since clustering is unsupervised, you will never know the \"true\" clusters, and so you will never know if a given algorithm is \"correct.\" There really is no notion of \"correctness\" - only \"usefullness.\"\n",
    "- Many online clustering tutorials (including some from Uncle Steve) create flashy visualizations of the clusters by plotting the instances on a 2-D graph and coloring each point by the cluster ID. This is really nice and all, but it can only work if your dataset only has exactly two features - no more, no less. This dataset has more than two features, so you cannot use this technique. (But that's OK - you don't need to use this technique.) \n",
    "- Must you use all four features in the clustering? Not necessarily, no. But \"throwing away\" quality data, for no reason, is unlikely to improve a model.\n",
    "- Some people have success applying a dimensionality reduction technique (like [`sklearn.decomposition.PCA`](https://scikit-learn.org/stable/modules/generated/sklearn.decomposition.PCA.html)) to the features before clustering. You may do this if you wish, although it may not be as helpful in this case because there are only four features to begin with.\n",
    "- If you apply a transformation (e.g., [`MinMaxScaler`](https://scikit-learn.org/stable/modules/generated/sklearn.preprocessing.MinMaxScaler.html) or [`StandardScaler`](https://scikit-learn.org/stable/modules/generated/sklearn.preprocessing.StandardScaler.html#sklearn.preprocessing.StandardScaler)) to the features before clustering, you may have difficulty interpretting the means of the clusters (e.g., what is a mean Age of 0.2234??). There are two options to fix this: first, you can always reverse a transformation with the `inverse_transform` method. Second, you can just use the original dataset (i.e., before any prepropoceesing) during the interpreation step.\n",
    "- You cannot change the distance metric for K-Means. (This is for theoretical reasons: K-Means only works/makes sense with Euclidean distance.)\n"
   ]
  },
  {
   "cell_type": "markdown",
   "metadata": {
    "id": "Yww0-vtpOw7z"
   },
   "source": [
    "## 1.0: Load data "
   ]
  },
  {
   "cell_type": "code",
   "execution_count": 7,
   "metadata": {
    "colab": {
     "base_uri": "https://localhost:8080/",
     "height": 0
    },
    "id": "qVWx2c-DhQYo",
    "outputId": "1171b849-bcba-4171-bcf7-79a858f26664"
   },
   "outputs": [
    {
     "name": "stdout",
     "output_type": "stream",
     "text": [
      "<class 'pandas.core.frame.DataFrame'>\n",
      "RangeIndex: 505 entries, 0 to 504\n",
      "Data columns (total 4 columns):\n",
      " #   Column         Non-Null Count  Dtype  \n",
      "---  ------         --------------  -----  \n",
      " 0   Age            505 non-null    int64  \n",
      " 1   Income         505 non-null    int64  \n",
      " 2   SpendingScore  505 non-null    float64\n",
      " 3   Savings        505 non-null    float64\n",
      "dtypes: float64(2), int64(2)\n",
      "memory usage: 15.9 KB\n"
     ]
    }
   ],
   "source": [
    "# DO NOT MODIFY THIS CELL\n",
    "df1 = pd.read_csv(\"https://drive.google.com/uc?export=download&id=1thHDCwQK3GijytoSSZNekAsItN_FGHtm\")\n",
    "df1.info()"
   ]
  },
  {
   "cell_type": "code",
   "execution_count": 8,
   "metadata": {
    "colab": {
     "base_uri": "https://localhost:8080/",
     "height": 206
    },
    "id": "6TGxgjB61lic",
    "outputId": "bad5bb96-239e-4b69-c656-a4e3d03dae67"
   },
   "outputs": [
    {
     "data": {
      "text/html": [
       "\n",
       "  <div id=\"df-6bc9f14a-74ec-460e-a830-9052646aad5b\">\n",
       "    <div class=\"colab-df-container\">\n",
       "      <div>\n",
       "<style scoped>\n",
       "    .dataframe tbody tr th:only-of-type {\n",
       "        vertical-align: middle;\n",
       "    }\n",
       "\n",
       "    .dataframe tbody tr th {\n",
       "        vertical-align: top;\n",
       "    }\n",
       "\n",
       "    .dataframe thead th {\n",
       "        text-align: right;\n",
       "    }\n",
       "</style>\n",
       "<table border=\"1\" class=\"dataframe\">\n",
       "  <thead>\n",
       "    <tr style=\"text-align: right;\">\n",
       "      <th></th>\n",
       "      <th>Age</th>\n",
       "      <th>Income</th>\n",
       "      <th>SpendingScore</th>\n",
       "      <th>Savings</th>\n",
       "    </tr>\n",
       "  </thead>\n",
       "  <tbody>\n",
       "    <tr>\n",
       "      <th>0</th>\n",
       "      <td>58</td>\n",
       "      <td>77769</td>\n",
       "      <td>0.791329</td>\n",
       "      <td>6559.829923</td>\n",
       "    </tr>\n",
       "    <tr>\n",
       "      <th>1</th>\n",
       "      <td>59</td>\n",
       "      <td>81799</td>\n",
       "      <td>0.791082</td>\n",
       "      <td>5417.661426</td>\n",
       "    </tr>\n",
       "    <tr>\n",
       "      <th>2</th>\n",
       "      <td>62</td>\n",
       "      <td>74751</td>\n",
       "      <td>0.702657</td>\n",
       "      <td>9258.992965</td>\n",
       "    </tr>\n",
       "    <tr>\n",
       "      <th>3</th>\n",
       "      <td>59</td>\n",
       "      <td>74373</td>\n",
       "      <td>0.765680</td>\n",
       "      <td>7346.334504</td>\n",
       "    </tr>\n",
       "    <tr>\n",
       "      <th>4</th>\n",
       "      <td>87</td>\n",
       "      <td>17760</td>\n",
       "      <td>0.348778</td>\n",
       "      <td>16869.507130</td>\n",
       "    </tr>\n",
       "  </tbody>\n",
       "</table>\n",
       "</div>\n",
       "      <button class=\"colab-df-convert\" onclick=\"convertToInteractive('df-6bc9f14a-74ec-460e-a830-9052646aad5b')\"\n",
       "              title=\"Convert this dataframe to an interactive table.\"\n",
       "              style=\"display:none;\">\n",
       "        \n",
       "  <svg xmlns=\"http://www.w3.org/2000/svg\" height=\"24px\"viewBox=\"0 0 24 24\"\n",
       "       width=\"24px\">\n",
       "    <path d=\"M0 0h24v24H0V0z\" fill=\"none\"/>\n",
       "    <path d=\"M18.56 5.44l.94 2.06.94-2.06 2.06-.94-2.06-.94-.94-2.06-.94 2.06-2.06.94zm-11 1L8.5 8.5l.94-2.06 2.06-.94-2.06-.94L8.5 2.5l-.94 2.06-2.06.94zm10 10l.94 2.06.94-2.06 2.06-.94-2.06-.94-.94-2.06-.94 2.06-2.06.94z\"/><path d=\"M17.41 7.96l-1.37-1.37c-.4-.4-.92-.59-1.43-.59-.52 0-1.04.2-1.43.59L10.3 9.45l-7.72 7.72c-.78.78-.78 2.05 0 2.83L4 21.41c.39.39.9.59 1.41.59.51 0 1.02-.2 1.41-.59l7.78-7.78 2.81-2.81c.8-.78.8-2.07 0-2.86zM5.41 20L4 18.59l7.72-7.72 1.47 1.35L5.41 20z\"/>\n",
       "  </svg>\n",
       "      </button>\n",
       "      \n",
       "  <style>\n",
       "    .colab-df-container {\n",
       "      display:flex;\n",
       "      flex-wrap:wrap;\n",
       "      gap: 12px;\n",
       "    }\n",
       "\n",
       "    .colab-df-convert {\n",
       "      background-color: #E8F0FE;\n",
       "      border: none;\n",
       "      border-radius: 50%;\n",
       "      cursor: pointer;\n",
       "      display: none;\n",
       "      fill: #1967D2;\n",
       "      height: 32px;\n",
       "      padding: 0 0 0 0;\n",
       "      width: 32px;\n",
       "    }\n",
       "\n",
       "    .colab-df-convert:hover {\n",
       "      background-color: #E2EBFA;\n",
       "      box-shadow: 0px 1px 2px rgba(60, 64, 67, 0.3), 0px 1px 3px 1px rgba(60, 64, 67, 0.15);\n",
       "      fill: #174EA6;\n",
       "    }\n",
       "\n",
       "    [theme=dark] .colab-df-convert {\n",
       "      background-color: #3B4455;\n",
       "      fill: #D2E3FC;\n",
       "    }\n",
       "\n",
       "    [theme=dark] .colab-df-convert:hover {\n",
       "      background-color: #434B5C;\n",
       "      box-shadow: 0px 1px 3px 1px rgba(0, 0, 0, 0.15);\n",
       "      filter: drop-shadow(0px 1px 2px rgba(0, 0, 0, 0.3));\n",
       "      fill: #FFFFFF;\n",
       "    }\n",
       "  </style>\n",
       "\n",
       "      <script>\n",
       "        const buttonEl =\n",
       "          document.querySelector('#df-6bc9f14a-74ec-460e-a830-9052646aad5b button.colab-df-convert');\n",
       "        buttonEl.style.display =\n",
       "          google.colab.kernel.accessAllowed ? 'block' : 'none';\n",
       "\n",
       "        async function convertToInteractive(key) {\n",
       "          const element = document.querySelector('#df-6bc9f14a-74ec-460e-a830-9052646aad5b');\n",
       "          const dataTable =\n",
       "            await google.colab.kernel.invokeFunction('convertToInteractive',\n",
       "                                                     [key], {});\n",
       "          if (!dataTable) return;\n",
       "\n",
       "          const docLinkHtml = 'Like what you see? Visit the ' +\n",
       "            '<a target=\"_blank\" href=https://colab.research.google.com/notebooks/data_table.ipynb>data table notebook</a>'\n",
       "            + ' to learn more about interactive tables.';\n",
       "          element.innerHTML = '';\n",
       "          dataTable['output_type'] = 'display_data';\n",
       "          await google.colab.output.renderOutput(dataTable, element);\n",
       "          const docLink = document.createElement('div');\n",
       "          docLink.innerHTML = docLinkHtml;\n",
       "          element.appendChild(docLink);\n",
       "        }\n",
       "      </script>\n",
       "    </div>\n",
       "  </div>\n",
       "  "
      ],
      "text/plain": [
       "   Age  Income  SpendingScore       Savings\n",
       "0   58   77769       0.791329   6559.829923\n",
       "1   59   81799       0.791082   5417.661426\n",
       "2   62   74751       0.702657   9258.992965\n",
       "3   59   74373       0.765680   7346.334504\n",
       "4   87   17760       0.348778  16869.507130"
      ]
     },
     "execution_count": 8,
     "metadata": {},
     "output_type": "execute_result"
    }
   ],
   "source": [
    "df1.head()"
   ]
  },
  {
   "cell_type": "markdown",
   "metadata": {
    "id": "R04NzckZKbG2"
   },
   "source": [
    "## 1.1: Clustering Algorithm #1"
   ]
  },
  {
   "cell_type": "code",
   "execution_count": 9,
   "metadata": {
    "id": "Qeavkicwo_oN"
   },
   "outputs": [],
   "source": [
    "from sklearn.preprocessing import StandardScaler"
   ]
  },
  {
   "cell_type": "code",
   "execution_count": 10,
   "metadata": {
    "id": "4TgmD-mIzNnq"
   },
   "outputs": [],
   "source": [
    "scaler = StandardScaler().fit(df1)"
   ]
  },
  {
   "cell_type": "code",
   "execution_count": 11,
   "metadata": {
    "colab": {
     "base_uri": "https://localhost:8080/",
     "height": 206
    },
    "id": "-tRLLZTY0czL",
    "outputId": "ba7ccb45-7de1-4bc9-c71b-7b0278d5ee65"
   },
   "outputs": [
    {
     "data": {
      "text/html": [
       "\n",
       "  <div id=\"df-2dff1b8d-a20f-42bc-985d-ab2e76532b40\">\n",
       "    <div class=\"colab-df-container\">\n",
       "      <div>\n",
       "<style scoped>\n",
       "    .dataframe tbody tr th:only-of-type {\n",
       "        vertical-align: middle;\n",
       "    }\n",
       "\n",
       "    .dataframe tbody tr th {\n",
       "        vertical-align: top;\n",
       "    }\n",
       "\n",
       "    .dataframe thead th {\n",
       "        text-align: right;\n",
       "    }\n",
       "</style>\n",
       "<table border=\"1\" class=\"dataframe\">\n",
       "  <thead>\n",
       "    <tr style=\"text-align: right;\">\n",
       "      <th></th>\n",
       "      <th>Age</th>\n",
       "      <th>Income</th>\n",
       "      <th>SpendingScore</th>\n",
       "      <th>Savings</th>\n",
       "    </tr>\n",
       "  </thead>\n",
       "  <tbody>\n",
       "    <tr>\n",
       "      <th>0</th>\n",
       "      <td>-0.042287</td>\n",
       "      <td>0.062733</td>\n",
       "      <td>1.103593</td>\n",
       "      <td>-1.072467</td>\n",
       "    </tr>\n",
       "    <tr>\n",
       "      <th>1</th>\n",
       "      <td>-0.000821</td>\n",
       "      <td>0.174811</td>\n",
       "      <td>1.102641</td>\n",
       "      <td>-1.303473</td>\n",
       "    </tr>\n",
       "    <tr>\n",
       "      <th>2</th>\n",
       "      <td>0.123577</td>\n",
       "      <td>-0.021200</td>\n",
       "      <td>0.761727</td>\n",
       "      <td>-0.526556</td>\n",
       "    </tr>\n",
       "    <tr>\n",
       "      <th>3</th>\n",
       "      <td>-0.000821</td>\n",
       "      <td>-0.031712</td>\n",
       "      <td>1.004705</td>\n",
       "      <td>-0.913395</td>\n",
       "    </tr>\n",
       "    <tr>\n",
       "      <th>4</th>\n",
       "      <td>1.160228</td>\n",
       "      <td>-1.606165</td>\n",
       "      <td>-0.602619</td>\n",
       "      <td>1.012686</td>\n",
       "    </tr>\n",
       "  </tbody>\n",
       "</table>\n",
       "</div>\n",
       "      <button class=\"colab-df-convert\" onclick=\"convertToInteractive('df-2dff1b8d-a20f-42bc-985d-ab2e76532b40')\"\n",
       "              title=\"Convert this dataframe to an interactive table.\"\n",
       "              style=\"display:none;\">\n",
       "        \n",
       "  <svg xmlns=\"http://www.w3.org/2000/svg\" height=\"24px\"viewBox=\"0 0 24 24\"\n",
       "       width=\"24px\">\n",
       "    <path d=\"M0 0h24v24H0V0z\" fill=\"none\"/>\n",
       "    <path d=\"M18.56 5.44l.94 2.06.94-2.06 2.06-.94-2.06-.94-.94-2.06-.94 2.06-2.06.94zm-11 1L8.5 8.5l.94-2.06 2.06-.94-2.06-.94L8.5 2.5l-.94 2.06-2.06.94zm10 10l.94 2.06.94-2.06 2.06-.94-2.06-.94-.94-2.06-.94 2.06-2.06.94z\"/><path d=\"M17.41 7.96l-1.37-1.37c-.4-.4-.92-.59-1.43-.59-.52 0-1.04.2-1.43.59L10.3 9.45l-7.72 7.72c-.78.78-.78 2.05 0 2.83L4 21.41c.39.39.9.59 1.41.59.51 0 1.02-.2 1.41-.59l7.78-7.78 2.81-2.81c.8-.78.8-2.07 0-2.86zM5.41 20L4 18.59l7.72-7.72 1.47 1.35L5.41 20z\"/>\n",
       "  </svg>\n",
       "      </button>\n",
       "      \n",
       "  <style>\n",
       "    .colab-df-container {\n",
       "      display:flex;\n",
       "      flex-wrap:wrap;\n",
       "      gap: 12px;\n",
       "    }\n",
       "\n",
       "    .colab-df-convert {\n",
       "      background-color: #E8F0FE;\n",
       "      border: none;\n",
       "      border-radius: 50%;\n",
       "      cursor: pointer;\n",
       "      display: none;\n",
       "      fill: #1967D2;\n",
       "      height: 32px;\n",
       "      padding: 0 0 0 0;\n",
       "      width: 32px;\n",
       "    }\n",
       "\n",
       "    .colab-df-convert:hover {\n",
       "      background-color: #E2EBFA;\n",
       "      box-shadow: 0px 1px 2px rgba(60, 64, 67, 0.3), 0px 1px 3px 1px rgba(60, 64, 67, 0.15);\n",
       "      fill: #174EA6;\n",
       "    }\n",
       "\n",
       "    [theme=dark] .colab-df-convert {\n",
       "      background-color: #3B4455;\n",
       "      fill: #D2E3FC;\n",
       "    }\n",
       "\n",
       "    [theme=dark] .colab-df-convert:hover {\n",
       "      background-color: #434B5C;\n",
       "      box-shadow: 0px 1px 3px 1px rgba(0, 0, 0, 0.15);\n",
       "      filter: drop-shadow(0px 1px 2px rgba(0, 0, 0, 0.3));\n",
       "      fill: #FFFFFF;\n",
       "    }\n",
       "  </style>\n",
       "\n",
       "      <script>\n",
       "        const buttonEl =\n",
       "          document.querySelector('#df-2dff1b8d-a20f-42bc-985d-ab2e76532b40 button.colab-df-convert');\n",
       "        buttonEl.style.display =\n",
       "          google.colab.kernel.accessAllowed ? 'block' : 'none';\n",
       "\n",
       "        async function convertToInteractive(key) {\n",
       "          const element = document.querySelector('#df-2dff1b8d-a20f-42bc-985d-ab2e76532b40');\n",
       "          const dataTable =\n",
       "            await google.colab.kernel.invokeFunction('convertToInteractive',\n",
       "                                                     [key], {});\n",
       "          if (!dataTable) return;\n",
       "\n",
       "          const docLinkHtml = 'Like what you see? Visit the ' +\n",
       "            '<a target=\"_blank\" href=https://colab.research.google.com/notebooks/data_table.ipynb>data table notebook</a>'\n",
       "            + ' to learn more about interactive tables.';\n",
       "          element.innerHTML = '';\n",
       "          dataTable['output_type'] = 'display_data';\n",
       "          await google.colab.output.renderOutput(dataTable, element);\n",
       "          const docLink = document.createElement('div');\n",
       "          docLink.innerHTML = docLinkHtml;\n",
       "          element.appendChild(docLink);\n",
       "        }\n",
       "      </script>\n",
       "    </div>\n",
       "  </div>\n",
       "  "
      ],
      "text/plain": [
       "        Age    Income  SpendingScore   Savings\n",
       "0 -0.042287  0.062733       1.103593 -1.072467\n",
       "1 -0.000821  0.174811       1.102641 -1.303473\n",
       "2  0.123577 -0.021200       0.761727 -0.526556\n",
       "3 -0.000821 -0.031712       1.004705 -0.913395\n",
       "4  1.160228 -1.606165      -0.602619  1.012686"
      ]
     },
     "execution_count": 11,
     "metadata": {},
     "output_type": "execute_result"
    }
   ],
   "source": [
    "df_standardized = df1.copy()\n",
    "df_standardized[df_standardized.columns] = scaler.transform(df1)\n",
    "df_standardized.head()"
   ]
  },
  {
   "cell_type": "code",
   "execution_count": 12,
   "metadata": {
    "id": "7K6-evenAium"
   },
   "outputs": [],
   "source": [
    "from sklearn.cluster import KMeans\n",
    "\n",
    "objective_function=[] \n",
    "for i in range(1,11):\n",
    "    clustering=KMeans(n_clusters=i, init='k-means++', random_state=1)\n",
    "    clustering.fit(df_standardized)\n",
    "    objective_function.append(clustering.inertia_)"
   ]
  },
  {
   "cell_type": "code",
   "execution_count": 13,
   "metadata": {
    "colab": {
     "base_uri": "https://localhost:8080/",
     "height": 295
    },
    "id": "M0NELuOeAixf",
    "outputId": "14303ca2-3855-4b75-e1f2-765be1d49809"
   },
   "outputs": [
    {
     "data": {
      "image/png": "[encoded data removed]",
      "text/plain": [
       "<Figure size 432x288 with 1 Axes>"
      ]
     },
     "metadata": {
      "needs_background": "light"
     },
     "output_type": "display_data"
    }
   ],
   "source": [
    "import matplotlib.pyplot as plt\n",
    "plt.plot(range(1,11),objective_function)\n",
    "plt.title('The Elbow Method')\n",
    "plt.xlabel('Number of Clusters K')\n",
    "plt.ylabel('objective_function')\n",
    "plt.show()"
   ]
  },
  {
   "cell_type": "markdown",
   "metadata": {
    "id": "Z8eyBx_THTPo"
   },
   "source": [
    "We can observe that the \"elbow\" is the number 4 which is optimal for this case. Now we can run a K-Means using as n_clusters the number 4."
   ]
  },
  {
   "cell_type": "code",
   "execution_count": 14,
   "metadata": {
    "colab": {
     "base_uri": "https://localhost:8080/",
     "height": 0
    },
    "id": "D1DfAjtgHgNG",
    "outputId": "e0e0ed7e-f393-4764-fe6a-9305b4bb83ca"
   },
   "outputs": [
    {
     "name": "stdout",
     "output_type": "stream",
     "text": [
      "CPU times: user 63.2 ms, sys: 1.82 ms, total: 65 ms\n",
      "Wall time: 51.3 ms\n"
     ]
    }
   ],
   "source": [
    "%%time\n",
    "# Fit the model.\n",
    "model = KMeans(n_clusters=4, random_state=1).fit(df_standardized)\n",
    "\n",
    "# Get results.\n",
    "df_standardized['cluster'] = model.predict(df_standardized)"
   ]
  },
  {
   "cell_type": "code",
   "execution_count": 15,
   "metadata": {
    "colab": {
     "base_uri": "https://localhost:8080/",
     "height": 206
    },
    "id": "tnHBpIBgrfjx",
    "outputId": "30cd91a9-f043-4547-8a1e-86840479c516"
   },
   "outputs": [
    {
     "data": {
      "text/html": [
       "\n",
       "  <div id=\"df-8b546fdc-9718-462c-bcf2-e03329f55aed\">\n",
       "    <div class=\"colab-df-container\">\n",
       "      <div>\n",
       "<style scoped>\n",
       "    .dataframe tbody tr th:only-of-type {\n",
       "        vertical-align: middle;\n",
       "    }\n",
       "\n",
       "    .dataframe tbody tr th {\n",
       "        vertical-align: top;\n",
       "    }\n",
       "\n",
       "    .dataframe thead th {\n",
       "        text-align: right;\n",
       "    }\n",
       "</style>\n",
       "<table border=\"1\" class=\"dataframe\">\n",
       "  <thead>\n",
       "    <tr style=\"text-align: right;\">\n",
       "      <th></th>\n",
       "      <th>Age</th>\n",
       "      <th>Income</th>\n",
       "      <th>SpendingScore</th>\n",
       "      <th>Savings</th>\n",
       "      <th>cluster</th>\n",
       "    </tr>\n",
       "  </thead>\n",
       "  <tbody>\n",
       "    <tr>\n",
       "      <th>0</th>\n",
       "      <td>-0.042287</td>\n",
       "      <td>0.062733</td>\n",
       "      <td>1.103593</td>\n",
       "      <td>-1.072467</td>\n",
       "      <td>0</td>\n",
       "    </tr>\n",
       "    <tr>\n",
       "      <th>1</th>\n",
       "      <td>-0.000821</td>\n",
       "      <td>0.174811</td>\n",
       "      <td>1.102641</td>\n",
       "      <td>-1.303473</td>\n",
       "      <td>0</td>\n",
       "    </tr>\n",
       "    <tr>\n",
       "      <th>2</th>\n",
       "      <td>0.123577</td>\n",
       "      <td>-0.021200</td>\n",
       "      <td>0.761727</td>\n",
       "      <td>-0.526556</td>\n",
       "      <td>0</td>\n",
       "    </tr>\n",
       "    <tr>\n",
       "      <th>3</th>\n",
       "      <td>-0.000821</td>\n",
       "      <td>-0.031712</td>\n",
       "      <td>1.004705</td>\n",
       "      <td>-0.913395</td>\n",
       "      <td>0</td>\n",
       "    </tr>\n",
       "    <tr>\n",
       "      <th>4</th>\n",
       "      <td>1.160228</td>\n",
       "      <td>-1.606165</td>\n",
       "      <td>-0.602619</td>\n",
       "      <td>1.012686</td>\n",
       "      <td>1</td>\n",
       "    </tr>\n",
       "  </tbody>\n",
       "</table>\n",
       "</div>\n",
       "      <button class=\"colab-df-convert\" onclick=\"convertToInteractive('df-8b546fdc-9718-462c-bcf2-e03329f55aed')\"\n",
       "              title=\"Convert this dataframe to an interactive table.\"\n",
       "              style=\"display:none;\">\n",
       "        \n",
       "  <svg xmlns=\"http://www.w3.org/2000/svg\" height=\"24px\"viewBox=\"0 0 24 24\"\n",
       "       width=\"24px\">\n",
       "    <path d=\"M0 0h24v24H0V0z\" fill=\"none\"/>\n",
       "    <path d=\"M18.56 5.44l.94 2.06.94-2.06 2.06-.94-2.06-.94-.94-2.06-.94 2.06-2.06.94zm-11 1L8.5 8.5l.94-2.06 2.06-.94-2.06-.94L8.5 2.5l-.94 2.06-2.06.94zm10 10l.94 2.06.94-2.06 2.06-.94-2.06-.94-.94-2.06-.94 2.06-2.06.94z\"/><path d=\"M17.41 7.96l-1.37-1.37c-.4-.4-.92-.59-1.43-.59-.52 0-1.04.2-1.43.59L10.3 9.45l-7.72 7.72c-.78.78-.78 2.05 0 2.83L4 21.41c.39.39.9.59 1.41.59.51 0 1.02-.2 1.41-.59l7.78-7.78 2.81-2.81c.8-.78.8-2.07 0-2.86zM5.41 20L4 18.59l7.72-7.72 1.47 1.35L5.41 20z\"/>\n",
       "  </svg>\n",
       "      </button>\n",
       "      \n",
       "  <style>\n",
       "    .colab-df-container {\n",
       "      display:flex;\n",
       "      flex-wrap:wrap;\n",
       "      gap: 12px;\n",
       "    }\n",
       "\n",
       "    .colab-df-convert {\n",
       "      background-color: #E8F0FE;\n",
       "      border: none;\n",
       "      border-radius: 50%;\n",
       "      cursor: pointer;\n",
       "      display: none;\n",
       "      fill: #1967D2;\n",
       "      height: 32px;\n",
       "      padding: 0 0 0 0;\n",
       "      width: 32px;\n",
       "    }\n",
       "\n",
       "    .colab-df-convert:hover {\n",
       "      background-color: #E2EBFA;\n",
       "      box-shadow: 0px 1px 2px rgba(60, 64, 67, 0.3), 0px 1px 3px 1px rgba(60, 64, 67, 0.15);\n",
       "      fill: #174EA6;\n",
       "    }\n",
       "\n",
       "    [theme=dark] .colab-df-convert {\n",
       "      background-color: #3B4455;\n",
       "      fill: #D2E3FC;\n",
       "    }\n",
       "\n",
       "    [theme=dark] .colab-df-convert:hover {\n",
       "      background-color: #434B5C;\n",
       "      box-shadow: 0px 1px 3px 1px rgba(0, 0, 0, 0.15);\n",
       "      filter: drop-shadow(0px 1px 2px rgba(0, 0, 0, 0.3));\n",
       "      fill: #FFFFFF;\n",
       "    }\n",
       "  </style>\n",
       "\n",
       "      <script>\n",
       "        const buttonEl =\n",
       "          document.querySelector('#df-8b546fdc-9718-462c-bcf2-e03329f55aed button.colab-df-convert');\n",
       "        buttonEl.style.display =\n",
       "          google.colab.kernel.accessAllowed ? 'block' : 'none';\n",
       "\n",
       "        async function convertToInteractive(key) {\n",
       "          const element = document.querySelector('#df-8b546fdc-9718-462c-bcf2-e03329f55aed');\n",
       "          const dataTable =\n",
       "            await google.colab.kernel.invokeFunction('convertToInteractive',\n",
       "                                                     [key], {});\n",
       "          if (!dataTable) return;\n",
       "\n",
       "          const docLinkHtml = 'Like what you see? Visit the ' +\n",
       "            '<a target=\"_blank\" href=https://colab.research.google.com/notebooks/data_table.ipynb>data table notebook</a>'\n",
       "            + ' to learn more about interactive tables.';\n",
       "          element.innerHTML = '';\n",
       "          dataTable['output_type'] = 'display_data';\n",
       "          await google.colab.output.renderOutput(dataTable, element);\n",
       "          const docLink = document.createElement('div');\n",
       "          docLink.innerHTML = docLinkHtml;\n",
       "          element.appendChild(docLink);\n",
       "        }\n",
       "      </script>\n",
       "    </div>\n",
       "  </div>\n",
       "  "
      ],
      "text/plain": [
       "        Age    Income  SpendingScore   Savings  cluster\n",
       "0 -0.042287  0.062733       1.103593 -1.072467        0\n",
       "1 -0.000821  0.174811       1.102641 -1.303473        0\n",
       "2  0.123577 -0.021200       0.761727 -0.526556        0\n",
       "3 -0.000821 -0.031712       1.004705 -0.913395        0\n",
       "4  1.160228 -1.606165      -0.602619  1.012686        1"
      ]
     },
     "execution_count": 15,
     "metadata": {},
     "output_type": "execute_result"
    }
   ],
   "source": [
    "df_standardized.head()"
   ]
  },
  {
   "cell_type": "code",
   "execution_count": 16,
   "metadata": {
    "colab": {
     "base_uri": "https://localhost:8080/",
     "height": 206
    },
    "id": "vVJHzKfYHgPG",
    "outputId": "0f6632d6-fcb1-4b5d-b8f0-68a1b3b417f6"
   },
   "outputs": [
    {
     "data": {
      "text/html": [
       "\n",
       "  <div id=\"df-eb7b1361-0ccb-4e94-8f0d-9668dae5b1ce\">\n",
       "    <div class=\"colab-df-container\">\n",
       "      <div>\n",
       "<style scoped>\n",
       "    .dataframe tbody tr th:only-of-type {\n",
       "        vertical-align: middle;\n",
       "    }\n",
       "\n",
       "    .dataframe tbody tr th {\n",
       "        vertical-align: top;\n",
       "    }\n",
       "\n",
       "    .dataframe thead th {\n",
       "        text-align: right;\n",
       "    }\n",
       "</style>\n",
       "<table border=\"1\" class=\"dataframe\">\n",
       "  <thead>\n",
       "    <tr style=\"text-align: right;\">\n",
       "      <th></th>\n",
       "      <th>Age</th>\n",
       "      <th>Income</th>\n",
       "      <th>SpendingScore</th>\n",
       "      <th>Savings</th>\n",
       "      <th>cluster</th>\n",
       "    </tr>\n",
       "  </thead>\n",
       "  <tbody>\n",
       "    <tr>\n",
       "      <th>0</th>\n",
       "      <td>58.0</td>\n",
       "      <td>77769.0</td>\n",
       "      <td>0.791329</td>\n",
       "      <td>6559.829923</td>\n",
       "      <td>0</td>\n",
       "    </tr>\n",
       "    <tr>\n",
       "      <th>1</th>\n",
       "      <td>59.0</td>\n",
       "      <td>81799.0</td>\n",
       "      <td>0.791082</td>\n",
       "      <td>5417.661426</td>\n",
       "      <td>0</td>\n",
       "    </tr>\n",
       "    <tr>\n",
       "      <th>2</th>\n",
       "      <td>62.0</td>\n",
       "      <td>74751.0</td>\n",
       "      <td>0.702657</td>\n",
       "      <td>9258.992965</td>\n",
       "      <td>0</td>\n",
       "    </tr>\n",
       "    <tr>\n",
       "      <th>3</th>\n",
       "      <td>59.0</td>\n",
       "      <td>74373.0</td>\n",
       "      <td>0.765680</td>\n",
       "      <td>7346.334504</td>\n",
       "      <td>0</td>\n",
       "    </tr>\n",
       "    <tr>\n",
       "      <th>4</th>\n",
       "      <td>87.0</td>\n",
       "      <td>17760.0</td>\n",
       "      <td>0.348778</td>\n",
       "      <td>16869.507130</td>\n",
       "      <td>1</td>\n",
       "    </tr>\n",
       "  </tbody>\n",
       "</table>\n",
       "</div>\n",
       "      <button class=\"colab-df-convert\" onclick=\"convertToInteractive('df-eb7b1361-0ccb-4e94-8f0d-9668dae5b1ce')\"\n",
       "              title=\"Convert this dataframe to an interactive table.\"\n",
       "              style=\"display:none;\">\n",
       "        \n",
       "  <svg xmlns=\"http://www.w3.org/2000/svg\" height=\"24px\"viewBox=\"0 0 24 24\"\n",
       "       width=\"24px\">\n",
       "    <path d=\"M0 0h24v24H0V0z\" fill=\"none\"/>\n",
       "    <path d=\"M18.56 5.44l.94 2.06.94-2.06 2.06-.94-2.06-.94-.94-2.06-.94 2.06-2.06.94zm-11 1L8.5 8.5l.94-2.06 2.06-.94-2.06-.94L8.5 2.5l-.94 2.06-2.06.94zm10 10l.94 2.06.94-2.06 2.06-.94-2.06-.94-.94-2.06-.94 2.06-2.06.94z\"/><path d=\"M17.41 7.96l-1.37-1.37c-.4-.4-.92-.59-1.43-.59-.52 0-1.04.2-1.43.59L10.3 9.45l-7.72 7.72c-.78.78-.78 2.05 0 2.83L4 21.41c.39.39.9.59 1.41.59.51 0 1.02-.2 1.41-.59l7.78-7.78 2.81-2.81c.8-.78.8-2.07 0-2.86zM5.41 20L4 18.59l7.72-7.72 1.47 1.35L5.41 20z\"/>\n",
       "  </svg>\n",
       "      </button>\n",
       "      \n",
       "  <style>\n",
       "    .colab-df-container {\n",
       "      display:flex;\n",
       "      flex-wrap:wrap;\n",
       "      gap: 12px;\n",
       "    }\n",
       "\n",
       "    .colab-df-convert {\n",
       "      background-color: #E8F0FE;\n",
       "      border: none;\n",
       "      border-radius: 50%;\n",
       "      cursor: pointer;\n",
       "      display: none;\n",
       "      fill: #1967D2;\n",
       "      height: 32px;\n",
       "      padding: 0 0 0 0;\n",
       "      width: 32px;\n",
       "    }\n",
       "\n",
       "    .colab-df-convert:hover {\n",
       "      background-color: #E2EBFA;\n",
       "      box-shadow: 0px 1px 2px rgba(60, 64, 67, 0.3), 0px 1px 3px 1px rgba(60, 64, 67, 0.15);\n",
       "      fill: #174EA6;\n",
       "    }\n",
       "\n",
       "    [theme=dark] .colab-df-convert {\n",
       "      background-color: #3B4455;\n",
       "      fill: #D2E3FC;\n",
       "    }\n",
       "\n",
       "    [theme=dark] .colab-df-convert:hover {\n",
       "      background-color: #434B5C;\n",
       "      box-shadow: 0px 1px 3px 1px rgba(0, 0, 0, 0.15);\n",
       "      filter: drop-shadow(0px 1px 2px rgba(0, 0, 0, 0.3));\n",
       "      fill: #FFFFFF;\n",
       "    }\n",
       "  </style>\n",
       "\n",
       "      <script>\n",
       "        const buttonEl =\n",
       "          document.querySelector('#df-eb7b1361-0ccb-4e94-8f0d-9668dae5b1ce button.colab-df-convert');\n",
       "        buttonEl.style.display =\n",
       "          google.colab.kernel.accessAllowed ? 'block' : 'none';\n",
       "\n",
       "        async function convertToInteractive(key) {\n",
       "          const element = document.querySelector('#df-eb7b1361-0ccb-4e94-8f0d-9668dae5b1ce');\n",
       "          const dataTable =\n",
       "            await google.colab.kernel.invokeFunction('convertToInteractive',\n",
       "                                                     [key], {});\n",
       "          if (!dataTable) return;\n",
       "\n",
       "          const docLinkHtml = 'Like what you see? Visit the ' +\n",
       "            '<a target=\"_blank\" href=https://colab.research.google.com/notebooks/data_table.ipynb>data table notebook</a>'\n",
       "            + ' to learn more about interactive tables.';\n",
       "          element.innerHTML = '';\n",
       "          dataTable['output_type'] = 'display_data';\n",
       "          await google.colab.output.renderOutput(dataTable, element);\n",
       "          const docLink = document.createElement('div');\n",
       "          docLink.innerHTML = docLinkHtml;\n",
       "          element.appendChild(docLink);\n",
       "        }\n",
       "      </script>\n",
       "    </div>\n",
       "  </div>\n",
       "  "
      ],
      "text/plain": [
       "    Age   Income  SpendingScore       Savings  cluster\n",
       "0  58.0  77769.0       0.791329   6559.829923        0\n",
       "1  59.0  81799.0       0.791082   5417.661426        0\n",
       "2  62.0  74751.0       0.702657   9258.992965        0\n",
       "3  59.0  74373.0       0.765680   7346.334504        0\n",
       "4  87.0  17760.0       0.348778  16869.507130        1"
      ]
     },
     "execution_count": 16,
     "metadata": {},
     "output_type": "execute_result"
    }
   ],
   "source": [
    "# inverse the standardization to get original values\n",
    "orig = scaler.inverse_transform(df_standardized[['Age','Income','SpendingScore','Savings']])\n",
    "kmeans_final = df_standardized.copy()\n",
    "kmeans_final[['Age','Income','SpendingScore','Savings']] = orig\n",
    "kmeans_final.head()"
   ]
  },
  {
   "cell_type": "code",
   "execution_count": 17,
   "metadata": {
    "colab": {
     "base_uri": "https://localhost:8080/",
     "height": 0
    },
    "id": "Yh-Mt8B8aUnw",
    "outputId": "ba037307-d3d4-4fb6-f66c-455d9b5a12a5"
   },
   "outputs": [
    {
     "name": "stdout",
     "output_type": "stream",
     "text": [
      "calinski_harabasz_score: 4449.578274990474\n",
      "silhouette_score: 0.7138293172501069\n"
     ]
    }
   ],
   "source": [
    "from sklearn.metrics import calinski_harabasz_score, silhouette_score\n",
    "print('calinski_harabasz_score:', calinski_harabasz_score(kmeans_final.drop(columns='cluster'), kmeans_final['cluster']))\n",
    "print('silhouette_score:', silhouette_score(kmeans_final.drop(columns='cluster'), kmeans_final['cluster']))"
   ]
  },
  {
   "cell_type": "markdown",
   "metadata": {
    "id": "ihVtYBWg1NM6"
   },
   "source": [
    "## 1.2: Clustering Algorithm #2"
   ]
  },
  {
   "cell_type": "code",
   "execution_count": 18,
   "metadata": {
    "colab": {
     "base_uri": "https://localhost:8080/",
     "height": 129
    },
    "id": "cwDp0in30xEl",
    "outputId": "5dfb0cc1-a65c-475c-8adb-60dae4157445"
   },
   "outputs": [
    {
     "data": {
      "text/html": [
       "\n",
       "  <div id=\"df-2b55dc82-f1fe-4ae3-9c7d-12160930f8be\">\n",
       "    <div class=\"colab-df-container\">\n",
       "      <div>\n",
       "<style scoped>\n",
       "    .dataframe tbody tr th:only-of-type {\n",
       "        vertical-align: middle;\n",
       "    }\n",
       "\n",
       "    .dataframe tbody tr th {\n",
       "        vertical-align: top;\n",
       "    }\n",
       "\n",
       "    .dataframe thead th {\n",
       "        text-align: right;\n",
       "    }\n",
       "</style>\n",
       "<table border=\"1\" class=\"dataframe\">\n",
       "  <thead>\n",
       "    <tr style=\"text-align: right;\">\n",
       "      <th></th>\n",
       "      <th>Age</th>\n",
       "      <th>Income</th>\n",
       "      <th>SpendingScore</th>\n",
       "      <th>Savings</th>\n",
       "      <th>cluster</th>\n",
       "    </tr>\n",
       "  </thead>\n",
       "  <tbody>\n",
       "    <tr>\n",
       "      <th>0</th>\n",
       "      <td>-0.042287</td>\n",
       "      <td>0.062733</td>\n",
       "      <td>1.103593</td>\n",
       "      <td>-1.072467</td>\n",
       "      <td>0</td>\n",
       "    </tr>\n",
       "    <tr>\n",
       "      <th>1</th>\n",
       "      <td>-0.000821</td>\n",
       "      <td>0.174811</td>\n",
       "      <td>1.102641</td>\n",
       "      <td>-1.303473</td>\n",
       "      <td>0</td>\n",
       "    </tr>\n",
       "  </tbody>\n",
       "</table>\n",
       "</div>\n",
       "      <button class=\"colab-df-convert\" onclick=\"convertToInteractive('df-2b55dc82-f1fe-4ae3-9c7d-12160930f8be')\"\n",
       "              title=\"Convert this dataframe to an interactive table.\"\n",
       "              style=\"display:none;\">\n",
       "        \n",
       "  <svg xmlns=\"http://www.w3.org/2000/svg\" height=\"24px\"viewBox=\"0 0 24 24\"\n",
       "       width=\"24px\">\n",
       "    <path d=\"M0 0h24v24H0V0z\" fill=\"none\"/>\n",
       "    <path d=\"M18.56 5.44l.94 2.06.94-2.06 2.06-.94-2.06-.94-.94-2.06-.94 2.06-2.06.94zm-11 1L8.5 8.5l.94-2.06 2.06-.94-2.06-.94L8.5 2.5l-.94 2.06-2.06.94zm10 10l.94 2.06.94-2.06 2.06-.94-2.06-.94-.94-2.06-.94 2.06-2.06.94z\"/><path d=\"M17.41 7.96l-1.37-1.37c-.4-.4-.92-.59-1.43-.59-.52 0-1.04.2-1.43.59L10.3 9.45l-7.72 7.72c-.78.78-.78 2.05 0 2.83L4 21.41c.39.39.9.59 1.41.59.51 0 1.02-.2 1.41-.59l7.78-7.78 2.81-2.81c.8-.78.8-2.07 0-2.86zM5.41 20L4 18.59l7.72-7.72 1.47 1.35L5.41 20z\"/>\n",
       "  </svg>\n",
       "      </button>\n",
       "      \n",
       "  <style>\n",
       "    .colab-df-container {\n",
       "      display:flex;\n",
       "      flex-wrap:wrap;\n",
       "      gap: 12px;\n",
       "    }\n",
       "\n",
       "    .colab-df-convert {\n",
       "      background-color: #E8F0FE;\n",
       "      border: none;\n",
       "      border-radius: 50%;\n",
       "      cursor: pointer;\n",
       "      display: none;\n",
       "      fill: #1967D2;\n",
       "      height: 32px;\n",
       "      padding: 0 0 0 0;\n",
       "      width: 32px;\n",
       "    }\n",
       "\n",
       "    .colab-df-convert:hover {\n",
       "      background-color: #E2EBFA;\n",
       "      box-shadow: 0px 1px 2px rgba(60, 64, 67, 0.3), 0px 1px 3px 1px rgba(60, 64, 67, 0.15);\n",
       "      fill: #174EA6;\n",
       "    }\n",
       "\n",
       "    [theme=dark] .colab-df-convert {\n",
       "      background-color: #3B4455;\n",
       "      fill: #D2E3FC;\n",
       "    }\n",
       "\n",
       "    [theme=dark] .colab-df-convert:hover {\n",
       "      background-color: #434B5C;\n",
       "      box-shadow: 0px 1px 3px 1px rgba(0, 0, 0, 0.15);\n",
       "      filter: drop-shadow(0px 1px 2px rgba(0, 0, 0, 0.3));\n",
       "      fill: #FFFFFF;\n",
       "    }\n",
       "  </style>\n",
       "\n",
       "      <script>\n",
       "        const buttonEl =\n",
       "          document.querySelector('#df-2b55dc82-f1fe-4ae3-9c7d-12160930f8be button.colab-df-convert');\n",
       "        buttonEl.style.display =\n",
       "          google.colab.kernel.accessAllowed ? 'block' : 'none';\n",
       "\n",
       "        async function convertToInteractive(key) {\n",
       "          const element = document.querySelector('#df-2b55dc82-f1fe-4ae3-9c7d-12160930f8be');\n",
       "          const dataTable =\n",
       "            await google.colab.kernel.invokeFunction('convertToInteractive',\n",
       "                                                     [key], {});\n",
       "          if (!dataTable) return;\n",
       "\n",
       "          const docLinkHtml = 'Like what you see? Visit the ' +\n",
       "            '<a target=\"_blank\" href=https://colab.research.google.com/notebooks/data_table.ipynb>data table notebook</a>'\n",
       "            + ' to learn more about interactive tables.';\n",
       "          element.innerHTML = '';\n",
       "          dataTable['output_type'] = 'display_data';\n",
       "          await google.colab.output.renderOutput(dataTable, element);\n",
       "          const docLink = document.createElement('div');\n",
       "          docLink.innerHTML = docLinkHtml;\n",
       "          element.appendChild(docLink);\n",
       "        }\n",
       "      </script>\n",
       "    </div>\n",
       "  </div>\n",
       "  "
      ],
      "text/plain": [
       "        Age    Income  SpendingScore   Savings  cluster\n",
       "0 -0.042287  0.062733       1.103593 -1.072467        0\n",
       "1 -0.000821  0.174811       1.102641 -1.303473        0"
      ]
     },
     "metadata": {},
     "output_type": "display_data"
    },
    {
     "data": {
      "text/plain": [
       "(505, 5)"
      ]
     },
     "execution_count": 18,
     "metadata": {},
     "output_type": "execute_result"
    }
   ],
   "source": [
    "display(df_standardized.head(2))\n",
    "df_standardized.shape"
   ]
  },
  {
   "cell_type": "code",
   "execution_count": 19,
   "metadata": {
    "id": "v3uCJTWzrwad"
   },
   "outputs": [],
   "source": [
    "from sklearn.cluster import DBSCAN"
   ]
  },
  {
   "cell_type": "code",
   "execution_count": 20,
   "metadata": {
    "colab": {
     "base_uri": "https://localhost:8080/",
     "height": 359
    },
    "id": "ZHptDcpoPGje",
    "outputId": "0c309fd1-69fb-477a-c2ae-899b61b489c2"
   },
   "outputs": [
    {
     "data": {
      "image/png": "[encoded data removed]",
      "text/plain": [
       "<Figure size 720x360 with 1 Axes>"
      ]
     },
     "metadata": {
      "needs_background": "light"
     },
     "output_type": "display_data"
    }
   ],
   "source": [
    "from sklearn.neighbors import NearestNeighbors\n",
    "X = df_standardized.drop(columns='cluster')\n",
    "neigh = NearestNeighbors(n_neighbors=2)\n",
    "nbrs = neigh.fit(X)\n",
    "distances, indices = nbrs.kneighbors(X)\n",
    "\n",
    "# Plotting K-distance Graph\n",
    "distances = np.sort(distances, axis=0)\n",
    "distances = distances[:,1]\n",
    "plt.figure(figsize=(10,5))\n",
    "plt.plot(distances)\n",
    "plt.title('K-distance Graph',fontsize=20)\n",
    "plt.xlabel('Data Points sorted by distance',fontsize=14)\n",
    "plt.ylabel('Epsilon',fontsize=14)\n",
    "plt.show()"
   ]
  },
  {
   "cell_type": "markdown",
   "metadata": {
    "id": "vBh9erxeQvcS"
   },
   "source": [
    "The optimal value should be the value at which we see maximum curvature which in this case seems to be near 0.25."
   ]
  },
  {
   "cell_type": "code",
   "execution_count": 21,
   "metadata": {
    "colab": {
     "base_uri": "https://localhost:8080/",
     "height": 0
    },
    "id": "dObdfD2QQ5mx",
    "outputId": "28d4ab41-172f-45d6-9216-719f02e8f828"
   },
   "outputs": [
    {
     "name": "stdout",
     "output_type": "stream",
     "text": [
      "CPU times: user 10.7 ms, sys: 921 µs, total: 11.6 ms\n",
      "Wall time: 11 ms\n"
     ]
    }
   ],
   "source": [
    "%%time\n",
    "dbscan_opt=DBSCAN(eps=0.25,min_samples=5)\n",
    "dbscan_opt.fit(X)\n",
    "dbscan_final = df_standardized.copy()\n",
    "dbscan_final['cluster'] = dbscan_opt.labels_"
   ]
  },
  {
   "cell_type": "code",
   "execution_count": 22,
   "metadata": {
    "colab": {
     "base_uri": "https://localhost:8080/",
     "height": 206
    },
    "id": "xDK5dNc6rath",
    "outputId": "e6857f67-d246-426c-b2ef-1ad2e2a2639d"
   },
   "outputs": [
    {
     "data": {
      "text/html": [
       "\n",
       "  <div id=\"df-dee664f5-18f9-4e53-85e9-485add83f0f5\">\n",
       "    <div class=\"colab-df-container\">\n",
       "      <div>\n",
       "<style scoped>\n",
       "    .dataframe tbody tr th:only-of-type {\n",
       "        vertical-align: middle;\n",
       "    }\n",
       "\n",
       "    .dataframe tbody tr th {\n",
       "        vertical-align: top;\n",
       "    }\n",
       "\n",
       "    .dataframe thead th {\n",
       "        text-align: right;\n",
       "    }\n",
       "</style>\n",
       "<table border=\"1\" class=\"dataframe\">\n",
       "  <thead>\n",
       "    <tr style=\"text-align: right;\">\n",
       "      <th></th>\n",
       "      <th>Age</th>\n",
       "      <th>Income</th>\n",
       "      <th>SpendingScore</th>\n",
       "      <th>Savings</th>\n",
       "      <th>cluster</th>\n",
       "    </tr>\n",
       "  </thead>\n",
       "  <tbody>\n",
       "    <tr>\n",
       "      <th>0</th>\n",
       "      <td>-0.042287</td>\n",
       "      <td>0.062733</td>\n",
       "      <td>1.103593</td>\n",
       "      <td>-1.072467</td>\n",
       "      <td>0</td>\n",
       "    </tr>\n",
       "    <tr>\n",
       "      <th>1</th>\n",
       "      <td>-0.000821</td>\n",
       "      <td>0.174811</td>\n",
       "      <td>1.102641</td>\n",
       "      <td>-1.303473</td>\n",
       "      <td>0</td>\n",
       "    </tr>\n",
       "    <tr>\n",
       "      <th>2</th>\n",
       "      <td>0.123577</td>\n",
       "      <td>-0.021200</td>\n",
       "      <td>0.761727</td>\n",
       "      <td>-0.526556</td>\n",
       "      <td>0</td>\n",
       "    </tr>\n",
       "    <tr>\n",
       "      <th>3</th>\n",
       "      <td>-0.000821</td>\n",
       "      <td>-0.031712</td>\n",
       "      <td>1.004705</td>\n",
       "      <td>-0.913395</td>\n",
       "      <td>0</td>\n",
       "    </tr>\n",
       "    <tr>\n",
       "      <th>4</th>\n",
       "      <td>1.160228</td>\n",
       "      <td>-1.606165</td>\n",
       "      <td>-0.602619</td>\n",
       "      <td>1.012686</td>\n",
       "      <td>1</td>\n",
       "    </tr>\n",
       "  </tbody>\n",
       "</table>\n",
       "</div>\n",
       "      <button class=\"colab-df-convert\" onclick=\"convertToInteractive('df-dee664f5-18f9-4e53-85e9-485add83f0f5')\"\n",
       "              title=\"Convert this dataframe to an interactive table.\"\n",
       "              style=\"display:none;\">\n",
       "        \n",
       "  <svg xmlns=\"http://www.w3.org/2000/svg\" height=\"24px\"viewBox=\"0 0 24 24\"\n",
       "       width=\"24px\">\n",
       "    <path d=\"M0 0h24v24H0V0z\" fill=\"none\"/>\n",
       "    <path d=\"M18.56 5.44l.94 2.06.94-2.06 2.06-.94-2.06-.94-.94-2.06-.94 2.06-2.06.94zm-11 1L8.5 8.5l.94-2.06 2.06-.94-2.06-.94L8.5 2.5l-.94 2.06-2.06.94zm10 10l.94 2.06.94-2.06 2.06-.94-2.06-.94-.94-2.06-.94 2.06-2.06.94z\"/><path d=\"M17.41 7.96l-1.37-1.37c-.4-.4-.92-.59-1.43-.59-.52 0-1.04.2-1.43.59L10.3 9.45l-7.72 7.72c-.78.78-.78 2.05 0 2.83L4 21.41c.39.39.9.59 1.41.59.51 0 1.02-.2 1.41-.59l7.78-7.78 2.81-2.81c.8-.78.8-2.07 0-2.86zM5.41 20L4 18.59l7.72-7.72 1.47 1.35L5.41 20z\"/>\n",
       "  </svg>\n",
       "      </button>\n",
       "      \n",
       "  <style>\n",
       "    .colab-df-container {\n",
       "      display:flex;\n",
       "      flex-wrap:wrap;\n",
       "      gap: 12px;\n",
       "    }\n",
       "\n",
       "    .colab-df-convert {\n",
       "      background-color: #E8F0FE;\n",
       "      border: none;\n",
       "      border-radius: 50%;\n",
       "      cursor: pointer;\n",
       "      display: none;\n",
       "      fill: #1967D2;\n",
       "      height: 32px;\n",
       "      padding: 0 0 0 0;\n",
       "      width: 32px;\n",
       "    }\n",
       "\n",
       "    .colab-df-convert:hover {\n",
       "      background-color: #E2EBFA;\n",
       "      box-shadow: 0px 1px 2px rgba(60, 64, 67, 0.3), 0px 1px 3px 1px rgba(60, 64, 67, 0.15);\n",
       "      fill: #174EA6;\n",
       "    }\n",
       "\n",
       "    [theme=dark] .colab-df-convert {\n",
       "      background-color: #3B4455;\n",
       "      fill: #D2E3FC;\n",
       "    }\n",
       "\n",
       "    [theme=dark] .colab-df-convert:hover {\n",
       "      background-color: #434B5C;\n",
       "      box-shadow: 0px 1px 3px 1px rgba(0, 0, 0, 0.15);\n",
       "      filter: drop-shadow(0px 1px 2px rgba(0, 0, 0, 0.3));\n",
       "      fill: #FFFFFF;\n",
       "    }\n",
       "  </style>\n",
       "\n",
       "      <script>\n",
       "        const buttonEl =\n",
       "          document.querySelector('#df-dee664f5-18f9-4e53-85e9-485add83f0f5 button.colab-df-convert');\n",
       "        buttonEl.style.display =\n",
       "          google.colab.kernel.accessAllowed ? 'block' : 'none';\n",
       "\n",
       "        async function convertToInteractive(key) {\n",
       "          const element = document.querySelector('#df-dee664f5-18f9-4e53-85e9-485add83f0f5');\n",
       "          const dataTable =\n",
       "            await google.colab.kernel.invokeFunction('convertToInteractive',\n",
       "                                                     [key], {});\n",
       "          if (!dataTable) return;\n",
       "\n",
       "          const docLinkHtml = 'Like what you see? Visit the ' +\n",
       "            '<a target=\"_blank\" href=https://colab.research.google.com/notebooks/data_table.ipynb>data table notebook</a>'\n",
       "            + ' to learn more about interactive tables.';\n",
       "          element.innerHTML = '';\n",
       "          dataTable['output_type'] = 'display_data';\n",
       "          await google.colab.output.renderOutput(dataTable, element);\n",
       "          const docLink = document.createElement('div');\n",
       "          docLink.innerHTML = docLinkHtml;\n",
       "          element.appendChild(docLink);\n",
       "        }\n",
       "      </script>\n",
       "    </div>\n",
       "  </div>\n",
       "  "
      ],
      "text/plain": [
       "        Age    Income  SpendingScore   Savings  cluster\n",
       "0 -0.042287  0.062733       1.103593 -1.072467        0\n",
       "1 -0.000821  0.174811       1.102641 -1.303473        0\n",
       "2  0.123577 -0.021200       0.761727 -0.526556        0\n",
       "3 -0.000821 -0.031712       1.004705 -0.913395        0\n",
       "4  1.160228 -1.606165      -0.602619  1.012686        1"
      ]
     },
     "execution_count": 22,
     "metadata": {},
     "output_type": "execute_result"
    }
   ],
   "source": [
    "dbscan_final.head()"
   ]
  },
  {
   "cell_type": "code",
   "execution_count": 23,
   "metadata": {
    "colab": {
     "base_uri": "https://localhost:8080/",
     "height": 206
    },
    "id": "HNTybTkDQ5sP",
    "outputId": "b30fb9b9-5509-4730-9967-b9f890e88e41"
   },
   "outputs": [
    {
     "data": {
      "text/html": [
       "\n",
       "  <div id=\"df-f4921a57-00ca-4187-b31e-14c65affb49d\">\n",
       "    <div class=\"colab-df-container\">\n",
       "      <div>\n",
       "<style scoped>\n",
       "    .dataframe tbody tr th:only-of-type {\n",
       "        vertical-align: middle;\n",
       "    }\n",
       "\n",
       "    .dataframe tbody tr th {\n",
       "        vertical-align: top;\n",
       "    }\n",
       "\n",
       "    .dataframe thead th {\n",
       "        text-align: right;\n",
       "    }\n",
       "</style>\n",
       "<table border=\"1\" class=\"dataframe\">\n",
       "  <thead>\n",
       "    <tr style=\"text-align: right;\">\n",
       "      <th></th>\n",
       "      <th>Age</th>\n",
       "      <th>Income</th>\n",
       "      <th>SpendingScore</th>\n",
       "      <th>Savings</th>\n",
       "      <th>cluster</th>\n",
       "    </tr>\n",
       "  </thead>\n",
       "  <tbody>\n",
       "    <tr>\n",
       "      <th>0</th>\n",
       "      <td>58.0</td>\n",
       "      <td>77769.0</td>\n",
       "      <td>0.791329</td>\n",
       "      <td>6559.829923</td>\n",
       "      <td>0</td>\n",
       "    </tr>\n",
       "    <tr>\n",
       "      <th>1</th>\n",
       "      <td>59.0</td>\n",
       "      <td>81799.0</td>\n",
       "      <td>0.791082</td>\n",
       "      <td>5417.661426</td>\n",
       "      <td>0</td>\n",
       "    </tr>\n",
       "    <tr>\n",
       "      <th>2</th>\n",
       "      <td>62.0</td>\n",
       "      <td>74751.0</td>\n",
       "      <td>0.702657</td>\n",
       "      <td>9258.992965</td>\n",
       "      <td>0</td>\n",
       "    </tr>\n",
       "    <tr>\n",
       "      <th>3</th>\n",
       "      <td>59.0</td>\n",
       "      <td>74373.0</td>\n",
       "      <td>0.765680</td>\n",
       "      <td>7346.334504</td>\n",
       "      <td>0</td>\n",
       "    </tr>\n",
       "    <tr>\n",
       "      <th>4</th>\n",
       "      <td>87.0</td>\n",
       "      <td>17760.0</td>\n",
       "      <td>0.348778</td>\n",
       "      <td>16869.507130</td>\n",
       "      <td>1</td>\n",
       "    </tr>\n",
       "  </tbody>\n",
       "</table>\n",
       "</div>\n",
       "      <button class=\"colab-df-convert\" onclick=\"convertToInteractive('df-f4921a57-00ca-4187-b31e-14c65affb49d')\"\n",
       "              title=\"Convert this dataframe to an interactive table.\"\n",
       "              style=\"display:none;\">\n",
       "        \n",
       "  <svg xmlns=\"http://www.w3.org/2000/svg\" height=\"24px\"viewBox=\"0 0 24 24\"\n",
       "       width=\"24px\">\n",
       "    <path d=\"M0 0h24v24H0V0z\" fill=\"none\"/>\n",
       "    <path d=\"M18.56 5.44l.94 2.06.94-2.06 2.06-.94-2.06-.94-.94-2.06-.94 2.06-2.06.94zm-11 1L8.5 8.5l.94-2.06 2.06-.94-2.06-.94L8.5 2.5l-.94 2.06-2.06.94zm10 10l.94 2.06.94-2.06 2.06-.94-2.06-.94-.94-2.06-.94 2.06-2.06.94z\"/><path d=\"M17.41 7.96l-1.37-1.37c-.4-.4-.92-.59-1.43-.59-.52 0-1.04.2-1.43.59L10.3 9.45l-7.72 7.72c-.78.78-.78 2.05 0 2.83L4 21.41c.39.39.9.59 1.41.59.51 0 1.02-.2 1.41-.59l7.78-7.78 2.81-2.81c.8-.78.8-2.07 0-2.86zM5.41 20L4 18.59l7.72-7.72 1.47 1.35L5.41 20z\"/>\n",
       "  </svg>\n",
       "      </button>\n",
       "      \n",
       "  <style>\n",
       "    .colab-df-container {\n",
       "      display:flex;\n",
       "      flex-wrap:wrap;\n",
       "      gap: 12px;\n",
       "    }\n",
       "\n",
       "    .colab-df-convert {\n",
       "      background-color: #E8F0FE;\n",
       "      border: none;\n",
       "      border-radius: 50%;\n",
       "      cursor: pointer;\n",
       "      display: none;\n",
       "      fill: #1967D2;\n",
       "      height: 32px;\n",
       "      padding: 0 0 0 0;\n",
       "      width: 32px;\n",
       "    }\n",
       "\n",
       "    .colab-df-convert:hover {\n",
       "      background-color: #E2EBFA;\n",
       "      box-shadow: 0px 1px 2px rgba(60, 64, 67, 0.3), 0px 1px 3px 1px rgba(60, 64, 67, 0.15);\n",
       "      fill: #174EA6;\n",
       "    }\n",
       "\n",
       "    [theme=dark] .colab-df-convert {\n",
       "      background-color: #3B4455;\n",
       "      fill: #D2E3FC;\n",
       "    }\n",
       "\n",
       "    [theme=dark] .colab-df-convert:hover {\n",
       "      background-color: #434B5C;\n",
       "      box-shadow: 0px 1px 3px 1px rgba(0, 0, 0, 0.15);\n",
       "      filter: drop-shadow(0px 1px 2px rgba(0, 0, 0, 0.3));\n",
       "      fill: #FFFFFF;\n",
       "    }\n",
       "  </style>\n",
       "\n",
       "      <script>\n",
       "        const buttonEl =\n",
       "          document.querySelector('#df-f4921a57-00ca-4187-b31e-14c65affb49d button.colab-df-convert');\n",
       "        buttonEl.style.display =\n",
       "          google.colab.kernel.accessAllowed ? 'block' : 'none';\n",
       "\n",
       "        async function convertToInteractive(key) {\n",
       "          const element = document.querySelector('#df-f4921a57-00ca-4187-b31e-14c65affb49d');\n",
       "          const dataTable =\n",
       "            await google.colab.kernel.invokeFunction('convertToInteractive',\n",
       "                                                     [key], {});\n",
       "          if (!dataTable) return;\n",
       "\n",
       "          const docLinkHtml = 'Like what you see? Visit the ' +\n",
       "            '<a target=\"_blank\" href=https://colab.research.google.com/notebooks/data_table.ipynb>data table notebook</a>'\n",
       "            + ' to learn more about interactive tables.';\n",
       "          element.innerHTML = '';\n",
       "          dataTable['output_type'] = 'display_data';\n",
       "          await google.colab.output.renderOutput(dataTable, element);\n",
       "          const docLink = document.createElement('div');\n",
       "          docLink.innerHTML = docLinkHtml;\n",
       "          element.appendChild(docLink);\n",
       "        }\n",
       "      </script>\n",
       "    </div>\n",
       "  </div>\n",
       "  "
      ],
      "text/plain": [
       "    Age   Income  SpendingScore       Savings  cluster\n",
       "0  58.0  77769.0       0.791329   6559.829923        0\n",
       "1  59.0  81799.0       0.791082   5417.661426        0\n",
       "2  62.0  74751.0       0.702657   9258.992965        0\n",
       "3  59.0  74373.0       0.765680   7346.334504        0\n",
       "4  87.0  17760.0       0.348778  16869.507130        1"
      ]
     },
     "execution_count": 23,
     "metadata": {},
     "output_type": "execute_result"
    }
   ],
   "source": [
    "# inverse the standardization to get original values\n",
    "orig = scaler.inverse_transform(dbscan_final[['Age','Income','SpendingScore','Savings']])\n",
    "dbscan_final[['Age','Income','SpendingScore','Savings']] = orig\n",
    "dbscan_final.head()"
   ]
  },
  {
   "cell_type": "code",
   "execution_count": 24,
   "metadata": {
    "colab": {
     "base_uri": "https://localhost:8080/",
     "height": 0
    },
    "id": "Fl5mJqk7Q5ua",
    "outputId": "602d8d53-d02e-4bd2-dd27-3dbe3f6e6b29"
   },
   "outputs": [
    {
     "name": "stdout",
     "output_type": "stream",
     "text": [
      "calinski_harabasz_score: 663.3247849633888\n",
      "silhouette_score: 0.5442393959021247\n"
     ]
    }
   ],
   "source": [
    "print('calinski_harabasz_score:', calinski_harabasz_score(dbscan_final.drop(columns='cluster'), dbscan_final['cluster']))\n",
    "print('silhouette_score:', silhouette_score(dbscan_final.drop(columns='cluster'), dbscan_final['cluster']))"
   ]
  },
  {
   "cell_type": "markdown",
   "metadata": {
    "id": "6ySJIgNr1Sfy"
   },
   "source": [
    "## 1.3 Model Comparison"
   ]
  },
  {
   "cell_type": "code",
   "execution_count": 25,
   "metadata": {
    "colab": {
     "base_uri": "https://localhost:8080/",
     "height": 0
    },
    "id": "xUqu7s2dpl1y",
    "outputId": "8367b3db-d92c-4692-efda-e10a76f75b69"
   },
   "outputs": [
    {
     "name": "stdout",
     "output_type": "stream",
     "text": [
      "0    157\n",
      "2    151\n",
      "1    147\n",
      "3     50\n",
      "Name: cluster, dtype: int64\n"
     ]
    }
   ],
   "source": [
    "print(kmeans_final.cluster.value_counts())"
   ]
  },
  {
   "cell_type": "code",
   "execution_count": 26,
   "metadata": {
    "colab": {
     "base_uri": "https://localhost:8080/",
     "height": 0
    },
    "id": "5mKkhKFrp4tN",
    "outputId": "e4ebc847-b414-4832-bc6f-530050e9b8d3"
   },
   "outputs": [
    {
     "name": "stdout",
     "output_type": "stream",
     "text": [
      " 0    153\n",
      " 1    137\n",
      " 2    114\n",
      "-1     46\n",
      " 4     38\n",
      " 3     17\n",
      "Name: cluster, dtype: int64\n"
     ]
    }
   ],
   "source": [
    "print(dbscan_final.cluster.value_counts())"
   ]
  },
  {
   "cell_type": "markdown",
   "metadata": {
    "id": "Vl3dZdlhndE7"
   },
   "source": [
    "K-Means algorithm is a better model for this particular dataset for the following reasons:\n",
    "1. Calinski-Harabasz Index is the ratio of the sum of between-clusters dispersion and of inter-cluster dispersion for all clusters, the higher the score , the better the performances. K-Means algorithm produces a value of 4450, while DBSCAN produces a value of only 663. The K-Means algorithm is a better model using this criteria.\n",
    "2. Silhouette score ranges from -1 to 1. A value closer to 1 means clusters are well apart from each other and clearly distinguished. K-Means algorithm has a value of 0.71, while DBSCAN has a value of only 0.54. The K-Means algorithm is a better model using this criteria.\n",
    "3. K-Means algorithm assigns 4 clusters to 505 instances to reach optimal clustering, while DBSCAN assigns 6 clusters. Considering the dataset is not large, 4 clusters seem more reasonable to use and implement for the company than 6 clusters. This is because companies usually develope different marketing strategies to different cluster of customers and less clusters can save development and implementation costs. The K-Means algorithm is a better model using this criteria.\n",
    "4. From execution time point of view, K-Means algorithm takes 46.5ms to run while DBSCAN takes 9.02ms to run. However since both algorithms executes pretty fast, the slight difference can be ignored for this dataset.\n",
    "\n",
    "In conclusion, K-Means algorithm is a better model for this dataset."
   ]
  },
  {
   "cell_type": "markdown",
   "metadata": {
    "id": "MP2EAnCJ1Xta"
   },
   "source": [
    "## 1.4 Personas"
   ]
  },
  {
   "cell_type": "code",
   "execution_count": 27,
   "metadata": {
    "id": "Q1gHz5KbzH7h"
   },
   "outputs": [],
   "source": [
    "cluster_avg = kmeans_final.groupby(['cluster']).mean()\n",
    "population_avg = kmeans_final.mean()\n",
    "relative_imp = cluster_avg / population_avg - 1"
   ]
  },
  {
   "cell_type": "code",
   "execution_count": 28,
   "metadata": {
    "colab": {
     "base_uri": "https://localhost:8080/",
     "height": 206
    },
    "id": "NsD8DWiuzf_4",
    "outputId": "d44f5fbc-dca1-4c55-872b-7da41c073949"
   },
   "outputs": [
    {
     "data": {
      "text/html": [
       "\n",
       "  <div id=\"df-f1384497-ca92-4b1b-ba47-bd122d665745\">\n",
       "    <div class=\"colab-df-container\">\n",
       "      <div>\n",
       "<style scoped>\n",
       "    .dataframe tbody tr th:only-of-type {\n",
       "        vertical-align: middle;\n",
       "    }\n",
       "\n",
       "    .dataframe tbody tr th {\n",
       "        vertical-align: top;\n",
       "    }\n",
       "\n",
       "    .dataframe thead th {\n",
       "        text-align: right;\n",
       "    }\n",
       "</style>\n",
       "<table border=\"1\" class=\"dataframe\">\n",
       "  <thead>\n",
       "    <tr style=\"text-align: right;\">\n",
       "      <th></th>\n",
       "      <th>Age</th>\n",
       "      <th>Income</th>\n",
       "      <th>Savings</th>\n",
       "      <th>SpendingScore</th>\n",
       "      <th>cluster</th>\n",
       "    </tr>\n",
       "    <tr>\n",
       "      <th>cluster</th>\n",
       "      <th></th>\n",
       "      <th></th>\n",
       "      <th></th>\n",
       "      <th></th>\n",
       "      <th></th>\n",
       "    </tr>\n",
       "  </thead>\n",
       "  <tbody>\n",
       "    <tr>\n",
       "      <th>0</th>\n",
       "      <td>0.02</td>\n",
       "      <td>-0.04</td>\n",
       "      <td>-0.42</td>\n",
       "      <td>0.53</td>\n",
       "      <td>NaN</td>\n",
       "    </tr>\n",
       "    <tr>\n",
       "      <th>1</th>\n",
       "      <td>0.49</td>\n",
       "      <td>-0.63</td>\n",
       "      <td>0.40</td>\n",
       "      <td>-0.35</td>\n",
       "      <td>NaN</td>\n",
       "    </tr>\n",
       "    <tr>\n",
       "      <th>2</th>\n",
       "      <td>-0.30</td>\n",
       "      <td>0.43</td>\n",
       "      <td>0.26</td>\n",
       "      <td>-0.47</td>\n",
       "      <td>NaN</td>\n",
       "    </tr>\n",
       "    <tr>\n",
       "      <th>3</th>\n",
       "      <td>-0.59</td>\n",
       "      <td>0.70</td>\n",
       "      <td>-0.66</td>\n",
       "      <td>0.78</td>\n",
       "      <td>NaN</td>\n",
       "    </tr>\n",
       "  </tbody>\n",
       "</table>\n",
       "</div>\n",
       "      <button class=\"colab-df-convert\" onclick=\"convertToInteractive('df-f1384497-ca92-4b1b-ba47-bd122d665745')\"\n",
       "              title=\"Convert this dataframe to an interactive table.\"\n",
       "              style=\"display:none;\">\n",
       "        \n",
       "  <svg xmlns=\"http://www.w3.org/2000/svg\" height=\"24px\"viewBox=\"0 0 24 24\"\n",
       "       width=\"24px\">\n",
       "    <path d=\"M0 0h24v24H0V0z\" fill=\"none\"/>\n",
       "    <path d=\"M18.56 5.44l.94 2.06.94-2.06 2.06-.94-2.06-.94-.94-2.06-.94 2.06-2.06.94zm-11 1L8.5 8.5l.94-2.06 2.06-.94-2.06-.94L8.5 2.5l-.94 2.06-2.06.94zm10 10l.94 2.06.94-2.06 2.06-.94-2.06-.94-.94-2.06-.94 2.06-2.06.94z\"/><path d=\"M17.41 7.96l-1.37-1.37c-.4-.4-.92-.59-1.43-.59-.52 0-1.04.2-1.43.59L10.3 9.45l-7.72 7.72c-.78.78-.78 2.05 0 2.83L4 21.41c.39.39.9.59 1.41.59.51 0 1.02-.2 1.41-.59l7.78-7.78 2.81-2.81c.8-.78.8-2.07 0-2.86zM5.41 20L4 18.59l7.72-7.72 1.47 1.35L5.41 20z\"/>\n",
       "  </svg>\n",
       "      </button>\n",
       "      \n",
       "  <style>\n",
       "    .colab-df-container {\n",
       "      display:flex;\n",
       "      flex-wrap:wrap;\n",
       "      gap: 12px;\n",
       "    }\n",
       "\n",
       "    .colab-df-convert {\n",
       "      background-color: #E8F0FE;\n",
       "      border: none;\n",
       "      border-radius: 50%;\n",
       "      cursor: pointer;\n",
       "      display: none;\n",
       "      fill: #1967D2;\n",
       "      height: 32px;\n",
       "      padding: 0 0 0 0;\n",
       "      width: 32px;\n",
       "    }\n",
       "\n",
       "    .colab-df-convert:hover {\n",
       "      background-color: #E2EBFA;\n",
       "      box-shadow: 0px 1px 2px rgba(60, 64, 67, 0.3), 0px 1px 3px 1px rgba(60, 64, 67, 0.15);\n",
       "      fill: #174EA6;\n",
       "    }\n",
       "\n",
       "    [theme=dark] .colab-df-convert {\n",
       "      background-color: #3B4455;\n",
       "      fill: #D2E3FC;\n",
       "    }\n",
       "\n",
       "    [theme=dark] .colab-df-convert:hover {\n",
       "      background-color: #434B5C;\n",
       "      box-shadow: 0px 1px 3px 1px rgba(0, 0, 0, 0.15);\n",
       "      filter: drop-shadow(0px 1px 2px rgba(0, 0, 0, 0.3));\n",
       "      fill: #FFFFFF;\n",
       "    }\n",
       "  </style>\n",
       "\n",
       "      <script>\n",
       "        const buttonEl =\n",
       "          document.querySelector('#df-f1384497-ca92-4b1b-ba47-bd122d665745 button.colab-df-convert');\n",
       "        buttonEl.style.display =\n",
       "          google.colab.kernel.accessAllowed ? 'block' : 'none';\n",
       "\n",
       "        async function convertToInteractive(key) {\n",
       "          const element = document.querySelector('#df-f1384497-ca92-4b1b-ba47-bd122d665745');\n",
       "          const dataTable =\n",
       "            await google.colab.kernel.invokeFunction('convertToInteractive',\n",
       "                                                     [key], {});\n",
       "          if (!dataTable) return;\n",
       "\n",
       "          const docLinkHtml = 'Like what you see? Visit the ' +\n",
       "            '<a target=\"_blank\" href=https://colab.research.google.com/notebooks/data_table.ipynb>data table notebook</a>'\n",
       "            + ' to learn more about interactive tables.';\n",
       "          element.innerHTML = '';\n",
       "          dataTable['output_type'] = 'display_data';\n",
       "          await google.colab.output.renderOutput(dataTable, element);\n",
       "          const docLink = document.createElement('div');\n",
       "          docLink.innerHTML = docLinkHtml;\n",
       "          element.appendChild(docLink);\n",
       "        }\n",
       "      </script>\n",
       "    </div>\n",
       "  </div>\n",
       "  "
      ],
      "text/plain": [
       "          Age  Income  Savings  SpendingScore  cluster\n",
       "cluster                                               \n",
       "0        0.02   -0.04    -0.42           0.53      NaN\n",
       "1        0.49   -0.63     0.40          -0.35      NaN\n",
       "2       -0.30    0.43     0.26          -0.47      NaN\n",
       "3       -0.59    0.70    -0.66           0.78      NaN"
      ]
     },
     "execution_count": 28,
     "metadata": {},
     "output_type": "execute_result"
    }
   ],
   "source": [
    "relative_imp.round(2)"
   ]
  },
  {
   "cell_type": "code",
   "execution_count": 29,
   "metadata": {
    "colab": {
     "base_uri": "https://localhost:8080/",
     "height": 173
    },
    "id": "STd9ev4HxGvh",
    "outputId": "de972700-408a-43e8-ee62-454f4c922645"
   },
   "outputs": [
    {
     "data": {
      "image/png": "[encoded data removed]",
      "text/plain": [
       "<Figure size 576x144 with 2 Axes>"
      ]
     },
     "metadata": {
      "needs_background": "light"
     },
     "output_type": "display_data"
    }
   ],
   "source": [
    "import seaborn as sns\n",
    "plt.figure(figsize=(8, 2))\n",
    "plt.title('Relative importance of attributes')\n",
    "sns.heatmap(data=relative_imp.drop(columns='cluster'), annot=True, fmt='.2f'\n",
    ", cmap='RdYlGn')\n",
    "plt.show()"
   ]
  },
  {
   "cell_type": "code",
   "execution_count": 30,
   "metadata": {
    "colab": {
     "base_uri": "https://localhost:8080/",
     "height": 81
    },
    "id": "-E9WCgYvxaWS",
    "outputId": "25c5e8aa-1379-402a-ac61-0672b06fde8e"
   },
   "outputs": [
    {
     "data": {
      "text/html": [
       "\n",
       "  <div id=\"df-7e7cba16-e4ce-4e92-8f5a-b33f09b40acb\">\n",
       "    <div class=\"colab-df-container\">\n",
       "      <div>\n",
       "<style scoped>\n",
       "    .dataframe tbody tr th:only-of-type {\n",
       "        vertical-align: middle;\n",
       "    }\n",
       "\n",
       "    .dataframe tbody tr th {\n",
       "        vertical-align: top;\n",
       "    }\n",
       "\n",
       "    .dataframe thead th {\n",
       "        text-align: right;\n",
       "    }\n",
       "</style>\n",
       "<table border=\"1\" class=\"dataframe\">\n",
       "  <thead>\n",
       "    <tr style=\"text-align: right;\">\n",
       "      <th></th>\n",
       "      <th>Age</th>\n",
       "      <th>Income</th>\n",
       "      <th>SpendingScore</th>\n",
       "      <th>Savings</th>\n",
       "      <th>cluster</th>\n",
       "    </tr>\n",
       "  </thead>\n",
       "  <tbody>\n",
       "    <tr>\n",
       "      <th>0</th>\n",
       "      <td>-0.042287</td>\n",
       "      <td>0.062733</td>\n",
       "      <td>1.103593</td>\n",
       "      <td>-1.072467</td>\n",
       "      <td>0</td>\n",
       "    </tr>\n",
       "  </tbody>\n",
       "</table>\n",
       "</div>\n",
       "      <button class=\"colab-df-convert\" onclick=\"convertToInteractive('df-7e7cba16-e4ce-4e92-8f5a-b33f09b40acb')\"\n",
       "              title=\"Convert this dataframe to an interactive table.\"\n",
       "              style=\"display:none;\">\n",
       "        \n",
       "  <svg xmlns=\"http://www.w3.org/2000/svg\" height=\"24px\"viewBox=\"0 0 24 24\"\n",
       "       width=\"24px\">\n",
       "    <path d=\"M0 0h24v24H0V0z\" fill=\"none\"/>\n",
       "    <path d=\"M18.56 5.44l.94 2.06.94-2.06 2.06-.94-2.06-.94-.94-2.06-.94 2.06-2.06.94zm-11 1L8.5 8.5l.94-2.06 2.06-.94-2.06-.94L8.5 2.5l-.94 2.06-2.06.94zm10 10l.94 2.06.94-2.06 2.06-.94-2.06-.94-.94-2.06-.94 2.06-2.06.94z\"/><path d=\"M17.41 7.96l-1.37-1.37c-.4-.4-.92-.59-1.43-.59-.52 0-1.04.2-1.43.59L10.3 9.45l-7.72 7.72c-.78.78-.78 2.05 0 2.83L4 21.41c.39.39.9.59 1.41.59.51 0 1.02-.2 1.41-.59l7.78-7.78 2.81-2.81c.8-.78.8-2.07 0-2.86zM5.41 20L4 18.59l7.72-7.72 1.47 1.35L5.41 20z\"/>\n",
       "  </svg>\n",
       "      </button>\n",
       "      \n",
       "  <style>\n",
       "    .colab-df-container {\n",
       "      display:flex;\n",
       "      flex-wrap:wrap;\n",
       "      gap: 12px;\n",
       "    }\n",
       "\n",
       "    .colab-df-convert {\n",
       "      background-color: #E8F0FE;\n",
       "      border: none;\n",
       "      border-radius: 50%;\n",
       "      cursor: pointer;\n",
       "      display: none;\n",
       "      fill: #1967D2;\n",
       "      height: 32px;\n",
       "      padding: 0 0 0 0;\n",
       "      width: 32px;\n",
       "    }\n",
       "\n",
       "    .colab-df-convert:hover {\n",
       "      background-color: #E2EBFA;\n",
       "      box-shadow: 0px 1px 2px rgba(60, 64, 67, 0.3), 0px 1px 3px 1px rgba(60, 64, 67, 0.15);\n",
       "      fill: #174EA6;\n",
       "    }\n",
       "\n",
       "    [theme=dark] .colab-df-convert {\n",
       "      background-color: #3B4455;\n",
       "      fill: #D2E3FC;\n",
       "    }\n",
       "\n",
       "    [theme=dark] .colab-df-convert:hover {\n",
       "      background-color: #434B5C;\n",
       "      box-shadow: 0px 1px 3px 1px rgba(0, 0, 0, 0.15);\n",
       "      filter: drop-shadow(0px 1px 2px rgba(0, 0, 0, 0.3));\n",
       "      fill: #FFFFFF;\n",
       "    }\n",
       "  </style>\n",
       "\n",
       "      <script>\n",
       "        const buttonEl =\n",
       "          document.querySelector('#df-7e7cba16-e4ce-4e92-8f5a-b33f09b40acb button.colab-df-convert');\n",
       "        buttonEl.style.display =\n",
       "          google.colab.kernel.accessAllowed ? 'block' : 'none';\n",
       "\n",
       "        async function convertToInteractive(key) {\n",
       "          const element = document.querySelector('#df-7e7cba16-e4ce-4e92-8f5a-b33f09b40acb');\n",
       "          const dataTable =\n",
       "            await google.colab.kernel.invokeFunction('convertToInteractive',\n",
       "                                                     [key], {});\n",
       "          if (!dataTable) return;\n",
       "\n",
       "          const docLinkHtml = 'Like what you see? Visit the ' +\n",
       "            '<a target=\"_blank\" href=https://colab.research.google.com/notebooks/data_table.ipynb>data table notebook</a>'\n",
       "            + ' to learn more about interactive tables.';\n",
       "          element.innerHTML = '';\n",
       "          dataTable['output_type'] = 'display_data';\n",
       "          await google.colab.output.renderOutput(dataTable, element);\n",
       "          const docLink = document.createElement('div');\n",
       "          docLink.innerHTML = docLinkHtml;\n",
       "          element.appendChild(docLink);\n",
       "        }\n",
       "      </script>\n",
       "    </div>\n",
       "  </div>\n",
       "  "
      ],
      "text/plain": [
       "        Age    Income  SpendingScore   Savings  cluster\n",
       "0 -0.042287  0.062733       1.103593 -1.072467        0"
      ]
     },
     "execution_count": 30,
     "metadata": {},
     "output_type": "execute_result"
    }
   ],
   "source": [
    "df_standardized.head(1)"
   ]
  },
  {
   "cell_type": "code",
   "execution_count": 31,
   "metadata": {
    "colab": {
     "base_uri": "https://localhost:8080/",
     "height": 206
    },
    "id": "x9MfIDQxxQkv",
    "outputId": "7e0f9607-9a66-4e17-b8cd-3a6a1d84de5d"
   },
   "outputs": [
    {
     "data": {
      "text/html": [
       "\n",
       "  <div id=\"df-3c9cb7be-59a8-455c-9ebe-b13e94f5f0d3\">\n",
       "    <div class=\"colab-df-container\">\n",
       "      <div>\n",
       "<style scoped>\n",
       "    .dataframe tbody tr th:only-of-type {\n",
       "        vertical-align: middle;\n",
       "    }\n",
       "\n",
       "    .dataframe tbody tr th {\n",
       "        vertical-align: top;\n",
       "    }\n",
       "\n",
       "    .dataframe thead th {\n",
       "        text-align: right;\n",
       "    }\n",
       "</style>\n",
       "<table border=\"1\" class=\"dataframe\">\n",
       "  <thead>\n",
       "    <tr style=\"text-align: right;\">\n",
       "      <th></th>\n",
       "      <th>cluster</th>\n",
       "      <th>Attribute</th>\n",
       "      <th>Value</th>\n",
       "    </tr>\n",
       "  </thead>\n",
       "  <tbody>\n",
       "    <tr>\n",
       "      <th>0</th>\n",
       "      <td>0</td>\n",
       "      <td>Age</td>\n",
       "      <td>-0.042287</td>\n",
       "    </tr>\n",
       "    <tr>\n",
       "      <th>1</th>\n",
       "      <td>0</td>\n",
       "      <td>Age</td>\n",
       "      <td>-0.000821</td>\n",
       "    </tr>\n",
       "    <tr>\n",
       "      <th>2</th>\n",
       "      <td>0</td>\n",
       "      <td>Age</td>\n",
       "      <td>0.123577</td>\n",
       "    </tr>\n",
       "    <tr>\n",
       "      <th>3</th>\n",
       "      <td>0</td>\n",
       "      <td>Age</td>\n",
       "      <td>-0.000821</td>\n",
       "    </tr>\n",
       "    <tr>\n",
       "      <th>4</th>\n",
       "      <td>1</td>\n",
       "      <td>Age</td>\n",
       "      <td>1.160228</td>\n",
       "    </tr>\n",
       "  </tbody>\n",
       "</table>\n",
       "</div>\n",
       "      <button class=\"colab-df-convert\" onclick=\"convertToInteractive('df-3c9cb7be-59a8-455c-9ebe-b13e94f5f0d3')\"\n",
       "              title=\"Convert this dataframe to an interactive table.\"\n",
       "              style=\"display:none;\">\n",
       "        \n",
       "  <svg xmlns=\"http://www.w3.org/2000/svg\" height=\"24px\"viewBox=\"0 0 24 24\"\n",
       "       width=\"24px\">\n",
       "    <path d=\"M0 0h24v24H0V0z\" fill=\"none\"/>\n",
       "    <path d=\"M18.56 5.44l.94 2.06.94-2.06 2.06-.94-2.06-.94-.94-2.06-.94 2.06-2.06.94zm-11 1L8.5 8.5l.94-2.06 2.06-.94-2.06-.94L8.5 2.5l-.94 2.06-2.06.94zm10 10l.94 2.06.94-2.06 2.06-.94-2.06-.94-.94-2.06-.94 2.06-2.06.94z\"/><path d=\"M17.41 7.96l-1.37-1.37c-.4-.4-.92-.59-1.43-.59-.52 0-1.04.2-1.43.59L10.3 9.45l-7.72 7.72c-.78.78-.78 2.05 0 2.83L4 21.41c.39.39.9.59 1.41.59.51 0 1.02-.2 1.41-.59l7.78-7.78 2.81-2.81c.8-.78.8-2.07 0-2.86zM5.41 20L4 18.59l7.72-7.72 1.47 1.35L5.41 20z\"/>\n",
       "  </svg>\n",
       "      </button>\n",
       "      \n",
       "  <style>\n",
       "    .colab-df-container {\n",
       "      display:flex;\n",
       "      flex-wrap:wrap;\n",
       "      gap: 12px;\n",
       "    }\n",
       "\n",
       "    .colab-df-convert {\n",
       "      background-color: #E8F0FE;\n",
       "      border: none;\n",
       "      border-radius: 50%;\n",
       "      cursor: pointer;\n",
       "      display: none;\n",
       "      fill: #1967D2;\n",
       "      height: 32px;\n",
       "      padding: 0 0 0 0;\n",
       "      width: 32px;\n",
       "    }\n",
       "\n",
       "    .colab-df-convert:hover {\n",
       "      background-color: #E2EBFA;\n",
       "      box-shadow: 0px 1px 2px rgba(60, 64, 67, 0.3), 0px 1px 3px 1px rgba(60, 64, 67, 0.15);\n",
       "      fill: #174EA6;\n",
       "    }\n",
       "\n",
       "    [theme=dark] .colab-df-convert {\n",
       "      background-color: #3B4455;\n",
       "      fill: #D2E3FC;\n",
       "    }\n",
       "\n",
       "    [theme=dark] .colab-df-convert:hover {\n",
       "      background-color: #434B5C;\n",
       "      box-shadow: 0px 1px 3px 1px rgba(0, 0, 0, 0.15);\n",
       "      filter: drop-shadow(0px 1px 2px rgba(0, 0, 0, 0.3));\n",
       "      fill: #FFFFFF;\n",
       "    }\n",
       "  </style>\n",
       "\n",
       "      <script>\n",
       "        const buttonEl =\n",
       "          document.querySelector('#df-3c9cb7be-59a8-455c-9ebe-b13e94f5f0d3 button.colab-df-convert');\n",
       "        buttonEl.style.display =\n",
       "          google.colab.kernel.accessAllowed ? 'block' : 'none';\n",
       "\n",
       "        async function convertToInteractive(key) {\n",
       "          const element = document.querySelector('#df-3c9cb7be-59a8-455c-9ebe-b13e94f5f0d3');\n",
       "          const dataTable =\n",
       "            await google.colab.kernel.invokeFunction('convertToInteractive',\n",
       "                                                     [key], {});\n",
       "          if (!dataTable) return;\n",
       "\n",
       "          const docLinkHtml = 'Like what you see? Visit the ' +\n",
       "            '<a target=\"_blank\" href=https://colab.research.google.com/notebooks/data_table.ipynb>data table notebook</a>'\n",
       "            + ' to learn more about interactive tables.';\n",
       "          element.innerHTML = '';\n",
       "          dataTable['output_type'] = 'display_data';\n",
       "          await google.colab.output.renderOutput(dataTable, element);\n",
       "          const docLink = document.createElement('div');\n",
       "          docLink.innerHTML = docLinkHtml;\n",
       "          element.appendChild(docLink);\n",
       "        }\n",
       "      </script>\n",
       "    </div>\n",
       "  </div>\n",
       "  "
      ],
      "text/plain": [
       "   cluster Attribute     Value\n",
       "0        0       Age -0.042287\n",
       "1        0       Age -0.000821\n",
       "2        0       Age  0.123577\n",
       "3        0       Age -0.000821\n",
       "4        1       Age  1.160228"
      ]
     },
     "execution_count": 31,
     "metadata": {},
     "output_type": "execute_result"
    }
   ],
   "source": [
    "df_melt = pd.melt(df_standardized.reset_index(),\n",
    "id_vars=['cluster'],\n",
    "value_vars=['Age', 'Income', 'SpendingScore', 'Savings'],\n",
    "var_name='Attribute',\n",
    "value_name='Value')\n",
    "df_melt.head()"
   ]
  },
  {
   "cell_type": "code",
   "execution_count": 32,
   "metadata": {
    "colab": {
     "base_uri": "https://localhost:8080/",
     "height": 312
    },
    "id": "oUPkTaeExGte",
    "outputId": "caa4b584-4725-44bb-c0d2-3cc42f9429a5"
   },
   "outputs": [
    {
     "data": {
      "text/plain": [
       "<matplotlib.axes._subplots.AxesSubplot at 0x7fc9f15ff750>"
      ]
     },
     "execution_count": 32,
     "metadata": {},
     "output_type": "execute_result"
    },
    {
     "data": {
      "image/png": "[encoded data removed]",
      "text/plain": [
       "<Figure size 432x288 with 1 Axes>"
      ]
     },
     "metadata": {
      "needs_background": "light"
     },
     "output_type": "display_data"
    }
   ],
   "source": [
    "plt.title('Snake plot variables')\n",
    "sns.lineplot(x=\"Attribute\"\n",
    ", y=\"Value\"\n",
    ", hue='cluster'\n",
    ", data=df_melt)"
   ]
  },
  {
   "cell_type": "markdown",
   "metadata": {
    "id": "PlakwTY4FjuU"
   },
   "source": [
    "From the above Snake plot, it's easy to notice that on average, customers from cluster 3 are the youngest, having the highest salary, spending the most, and saving the least among all cusomter groups. This cluster of customers should be targeted first by the store when designing marketing campaigns to generate the most revenue. However since the dataset above is standardized, it's not easy to see the exact value for each attribute. In the following step, let's look at their original values."
   ]
  },
  {
   "cell_type": "code",
   "execution_count": 33,
   "metadata": {
    "colab": {
     "base_uri": "https://localhost:8080/",
     "height": 206
    },
    "id": "fv3KA01ME6_U",
    "outputId": "06960fc6-a666-47a0-8bcb-5cf48d65b73e"
   },
   "outputs": [
    {
     "data": {
      "text/html": [
       "\n",
       "  <div id=\"df-c4c8866f-0896-4b20-8b8c-12d2f57ba5d7\">\n",
       "    <div class=\"colab-df-container\">\n",
       "      <div>\n",
       "<style scoped>\n",
       "    .dataframe tbody tr th:only-of-type {\n",
       "        vertical-align: middle;\n",
       "    }\n",
       "\n",
       "    .dataframe tbody tr th {\n",
       "        vertical-align: top;\n",
       "    }\n",
       "\n",
       "    .dataframe thead th {\n",
       "        text-align: right;\n",
       "    }\n",
       "</style>\n",
       "<table border=\"1\" class=\"dataframe\">\n",
       "  <thead>\n",
       "    <tr style=\"text-align: right;\">\n",
       "      <th></th>\n",
       "      <th>Age</th>\n",
       "      <th>Income</th>\n",
       "      <th>SpendingScore</th>\n",
       "      <th>Savings</th>\n",
       "    </tr>\n",
       "    <tr>\n",
       "      <th>cluster</th>\n",
       "      <th></th>\n",
       "      <th></th>\n",
       "      <th></th>\n",
       "      <th></th>\n",
       "    </tr>\n",
       "  </thead>\n",
       "  <tbody>\n",
       "    <tr>\n",
       "      <th>0</th>\n",
       "      <td>59.955414</td>\n",
       "      <td>72448.063694</td>\n",
       "      <td>0.771518</td>\n",
       "      <td>6889.972190</td>\n",
       "    </tr>\n",
       "    <tr>\n",
       "      <th>1</th>\n",
       "      <td>87.775510</td>\n",
       "      <td>27866.102041</td>\n",
       "      <td>0.328800</td>\n",
       "      <td>16659.261445</td>\n",
       "    </tr>\n",
       "    <tr>\n",
       "      <th>2</th>\n",
       "      <td>41.589404</td>\n",
       "      <td>107695.980132</td>\n",
       "      <td>0.269935</td>\n",
       "      <td>14937.265769</td>\n",
       "    </tr>\n",
       "    <tr>\n",
       "      <th>3</th>\n",
       "      <td>24.180000</td>\n",
       "      <td>128029.120000</td>\n",
       "      <td>0.896892</td>\n",
       "      <td>4087.520309</td>\n",
       "    </tr>\n",
       "  </tbody>\n",
       "</table>\n",
       "</div>\n",
       "      <button class=\"colab-df-convert\" onclick=\"convertToInteractive('df-c4c8866f-0896-4b20-8b8c-12d2f57ba5d7')\"\n",
       "              title=\"Convert this dataframe to an interactive table.\"\n",
       "              style=\"display:none;\">\n",
       "        \n",
       "  <svg xmlns=\"http://www.w3.org/2000/svg\" height=\"24px\"viewBox=\"0 0 24 24\"\n",
       "       width=\"24px\">\n",
       "    <path d=\"M0 0h24v24H0V0z\" fill=\"none\"/>\n",
       "    <path d=\"M18.56 5.44l.94 2.06.94-2.06 2.06-.94-2.06-.94-.94-2.06-.94 2.06-2.06.94zm-11 1L8.5 8.5l.94-2.06 2.06-.94-2.06-.94L8.5 2.5l-.94 2.06-2.06.94zm10 10l.94 2.06.94-2.06 2.06-.94-2.06-.94-.94-2.06-.94 2.06-2.06.94z\"/><path d=\"M17.41 7.96l-1.37-1.37c-.4-.4-.92-.59-1.43-.59-.52 0-1.04.2-1.43.59L10.3 9.45l-7.72 7.72c-.78.78-.78 2.05 0 2.83L4 21.41c.39.39.9.59 1.41.59.51 0 1.02-.2 1.41-.59l7.78-7.78 2.81-2.81c.8-.78.8-2.07 0-2.86zM5.41 20L4 18.59l7.72-7.72 1.47 1.35L5.41 20z\"/>\n",
       "  </svg>\n",
       "      </button>\n",
       "      \n",
       "  <style>\n",
       "    .colab-df-container {\n",
       "      display:flex;\n",
       "      flex-wrap:wrap;\n",
       "      gap: 12px;\n",
       "    }\n",
       "\n",
       "    .colab-df-convert {\n",
       "      background-color: #E8F0FE;\n",
       "      border: none;\n",
       "      border-radius: 50%;\n",
       "      cursor: pointer;\n",
       "      display: none;\n",
       "      fill: #1967D2;\n",
       "      height: 32px;\n",
       "      padding: 0 0 0 0;\n",
       "      width: 32px;\n",
       "    }\n",
       "\n",
       "    .colab-df-convert:hover {\n",
       "      background-color: #E2EBFA;\n",
       "      box-shadow: 0px 1px 2px rgba(60, 64, 67, 0.3), 0px 1px 3px 1px rgba(60, 64, 67, 0.15);\n",
       "      fill: #174EA6;\n",
       "    }\n",
       "\n",
       "    [theme=dark] .colab-df-convert {\n",
       "      background-color: #3B4455;\n",
       "      fill: #D2E3FC;\n",
       "    }\n",
       "\n",
       "    [theme=dark] .colab-df-convert:hover {\n",
       "      background-color: #434B5C;\n",
       "      box-shadow: 0px 1px 3px 1px rgba(0, 0, 0, 0.15);\n",
       "      filter: drop-shadow(0px 1px 2px rgba(0, 0, 0, 0.3));\n",
       "      fill: #FFFFFF;\n",
       "    }\n",
       "  </style>\n",
       "\n",
       "      <script>\n",
       "        const buttonEl =\n",
       "          document.querySelector('#df-c4c8866f-0896-4b20-8b8c-12d2f57ba5d7 button.colab-df-convert');\n",
       "        buttonEl.style.display =\n",
       "          google.colab.kernel.accessAllowed ? 'block' : 'none';\n",
       "\n",
       "        async function convertToInteractive(key) {\n",
       "          const element = document.querySelector('#df-c4c8866f-0896-4b20-8b8c-12d2f57ba5d7');\n",
       "          const dataTable =\n",
       "            await google.colab.kernel.invokeFunction('convertToInteractive',\n",
       "                                                     [key], {});\n",
       "          if (!dataTable) return;\n",
       "\n",
       "          const docLinkHtml = 'Like what you see? Visit the ' +\n",
       "            '<a target=\"_blank\" href=https://colab.research.google.com/notebooks/data_table.ipynb>data table notebook</a>'\n",
       "            + ' to learn more about interactive tables.';\n",
       "          element.innerHTML = '';\n",
       "          dataTable['output_type'] = 'display_data';\n",
       "          await google.colab.output.renderOutput(dataTable, element);\n",
       "          const docLink = document.createElement('div');\n",
       "          docLink.innerHTML = docLinkHtml;\n",
       "          element.appendChild(docLink);\n",
       "        }\n",
       "      </script>\n",
       "    </div>\n",
       "  </div>\n",
       "  "
      ],
      "text/plain": [
       "               Age         Income  SpendingScore       Savings\n",
       "cluster                                                       \n",
       "0        59.955414   72448.063694       0.771518   6889.972190\n",
       "1        87.775510   27866.102041       0.328800  16659.261445\n",
       "2        41.589404  107695.980132       0.269935  14937.265769\n",
       "3        24.180000  128029.120000       0.896892   4087.520309"
      ]
     },
     "execution_count": 33,
     "metadata": {},
     "output_type": "execute_result"
    }
   ],
   "source": [
    "# calculate the mean of Age, Income, SpendingScore and Savings for each cluster\n",
    "kmeans_final.groupby('cluster').mean()"
   ]
  },
  {
   "cell_type": "markdown",
   "metadata": {
    "id": "UbbVGuEuHV1_"
   },
   "source": [
    "For customers in cluster 3, their average age is 24 and average income is about 128,000. These characteristics show that this group of customers are young and rich. Maybe they are recent graduates from top universities and just entered technology or financial indutry where they earn big money. They have a lifestyle of spending a lot and saving a little, which makes them a very good target for our store. \n",
    "\n",
    "Cluster 2 has the second highest income on average but spending the least and saving a lot. The average age is 42 years old. This group of people are most likely having a middle class lifestyle. They need to support a family and thus not extravagant. A possible approach to target these customers is to advertise on holidays to attract them to buy gifts for their loved ones. \n",
    "\n",
    "Cluster 1 is the most aged group, with least income and highest savings. They are most likely retired people who doesn't want to spend a lot on jewelry.\n",
    "\n",
    "Cluster 0 is about 60 years old on average, making not a log of money but like to spend money on jewelries. This group is very likely to have more women than men because women are more interested in buying jewelries for themselves."
   ]
  },
  {
   "cell_type": "markdown",
   "metadata": {
    "id": "DYwuYIgczYSv"
   },
   "source": [
    "# Question 2: Uncle Steve's Fine Foods"
   ]
  },
  {
   "cell_type": "markdown",
   "metadata": {
    "id": "4oCr-mTfNG-H"
   },
   "source": [
    "## Instructions\n",
    "\n",
    "Uncle Steve runs a small, local grocery store in Ontario. The store sells all the normal food staples (e.g., bread, milk, cheese, eggs, more cheese, fruits, vegatables, meat, fish, waffles, ice cream, pasta, cereals, drinks), personal care products (e.g., toothpaste, shampoo, hair goo), medicine, and cakes. There's even a little section with flowers and greeting cards! Normal people shop here, and buy normal things in the normal way.\n",
    "\n",
    "Business is OK but Uncle Steve wants more. He's thus on the hunt for customer insights. Given your success at the jewelry store, he has asked you to help him out. \n",
    "\n",
    "He has given you a few years' worth of customer transactions, i.e., sets of items that customers have purchased. You have applied an association rules learning algorithm (like Apriori) to the data, and the algorithm has generated a large set of association rules of the form `{X} -> {Y}`, where `{X}` and `{Y}` are item-sets.\n",
    "\n",
    "Now comes a thought experiment. For each of the following scenarios, state what one of the discovered association rules might be that would meet the stated condition. (Just make up the rule, using your human experience and intuition.) Also, describe whether and why each rule would be considered interesting or uninteresting for Uncle Steve (i.e., is this insight new to him? Would he be able to use it somehow?).\n",
    "\n",
    "Keep each answer to 600 characters or less (including spaces).\n",
    "\n",
    "To get those brain juices going, an example condition and answer is provided below:\n",
    "\n",
    "> Condition: A rule that has high support.\n",
    "\n",
    "> Answer: The rule `{milk} -> {bread}` would have high support, since milk and bread are household staples and a high percentage of transactions would include both `{milk}` and `{bread}`. Uncle Steve would likely not find this rule interesting, because these items are so common, he would have surely already noticed that so many transactions contain them.\n",
    "\n",
    "**Marking**\n",
    "\n",
    "Your responses will be marked as follows:\n",
    "\n",
    "- *Correctness*. Rule meets the specificed condition, and seems plausible in an Ontario grocery store.\n",
    "- *Justification of interestness*. Response clearly describes whether and why the rule would be considered interesting to Uncle Steve.\n",
    "\n",
    "**Tips**\n",
    "\n",
    "- There is no actual data for this question. This question is just a thought exercise. You need to use your intuition, creatitivty, and understanding of the real world. I assume you are familiar with what happens inside of normal grocery stores. We are not using actual data and you do not need to create/generate/find any data. I repeat: there is no data for this question.\n",
    "- The reason this question is having you do a thought experiment, rather than writing and running code to find actual association rules on an actual dataset, is because writing code to find association rules is actually pretty easy. But using your brain to come up with rules that meet certain criteria, on the other hand, is a true test of whether you understand how the algorithm works, what support and confidence mean, and the applicability of rules. The question uses the grocery store context because most, if not all, students should be familiar from personal experience.\n",
    "\n"
   ]
  },
  {
   "cell_type": "markdown",
   "metadata": {
    "id": "3YQsOb6CzYVq"
   },
   "source": [
    "## 2.1: A rule that might have high support and high confidence. "
   ]
  },
  {
   "cell_type": "markdown",
   "metadata": {
    "id": "DzXu1IvK-MEg"
   },
   "source": [
    "{burger bun} -> {patty}. To make a burger, one need both burger bun and patty, therefore people who buy burger bun will most likely also buy patty. Such obvious rule would be uninteresting to the store."
   ]
  },
  {
   "cell_type": "markdown",
   "metadata": {
    "id": "VNIrAgJk-L4l"
   },
   "source": [
    "## 2.2: A rule that might have reasonably high support but low confidence."
   ]
  },
  {
   "cell_type": "markdown",
   "metadata": {
    "id": "svdzYW3S-LvF"
   },
   "source": [
    "{bread} -> {salmon} might have high support but low confidence. This is because both are food and people will usually buy food when going for grocery shopping. However buying bread doesn't necessarily lead to buying salmon. So confidence will be low. This rule is uninteresting because it's hard to use to generate more revenue."
   ]
  },
  {
   "cell_type": "markdown",
   "metadata": {
    "id": "loe--LMz-Ll8"
   },
   "source": [
    "## 2.3: A rule that might have low support and low confidence."
   ]
  },
  {
   "cell_type": "markdown",
   "metadata": {
    "id": "HdyOB5fe-Zgy"
   },
   "source": [
    "{cat litter} -> {milk} would have low support and low confidence. Because both are heavy items and normally people would not buy both together. This rule is uninteresting due to low support and low confidence between the two items."
   ]
  },
  {
   "cell_type": "markdown",
   "metadata": {
    "id": "St2eI3We-ZYs"
   },
   "source": [
    "## 2.4: A rule that might have low support and high confidence."
   ]
  },
  {
   "cell_type": "markdown",
   "metadata": {
    "id": "LcdZc-B1-fE7"
   },
   "source": [
    "Rule {ginger root} -> {green onion} would have low support and high confidence. There are not many people who will buy these two items when shopping for grocery. But whoever buys ginger root will very likly also buy green onion since they are essential ingredients for Chinese cuisine. This rule is interesting because store can place these two items close to each other to ensure positive customer shopping experience."
   ]
  },
  {
   "cell_type": "markdown",
   "metadata": {
    "id": "B_IHoz7f2yIV"
   },
   "source": [
    "# Question 3: Uncle Steve's Credit Union"
   ]
  },
  {
   "cell_type": "markdown",
   "metadata": {
    "id": "WhERdkp_zYBY"
   },
   "source": [
    "## Instructions\n",
    "\n",
    "Uncle Steve has recently opened a new credit union in Kingston, named *Uncle Steve's Credit Union*. He plans to disrupt the local market by instaneously providing credit to customers.\n",
    "\n",
    "The first step in Uncle Steve's master plan is to create a model to predict whether an application has *good risk* or *bad risk*. He has outsourced the creation of this model to you.\n",
    "\n",
    "You are to create a classification model to predict whether a loan applicant has good risk or bad risk. You will use data  that Uncle Steve bought from another credit union (somewhere in Europe, he thinks?) that has around 6000 instances and a number of demographics features (e.g., `Sex`, `DateOfBirth`, `Married`), loan details (e.g., `Amount`, `Purpose`), credit history (e.g., number of loans), as well as an indicator (called `BadCredit` in the dataset) as to whether that person was a bad risk.\n",
    "\n",
    "\n",
    "**Your tasks**\n",
    "\n",
    "To examine the effects of the various ML stages, you are to create the model several times, each time adding more sophistication, and measuring how much the model improved (or not). In particular, you will:\n",
    "\n",
    "0. Split the data in training and testing. Don't touch the testing data again, for any reason, until step 5. We are pretending that the testing data is \"future, unseen data that our model won't see until production.\" I'm serious, don't touch it. I'm watching you!\n",
    "1. Build a baseline model - no feature engineering, no feature selection, no hyperparameter tuning (just use the default settings), nothing fancy. (You may need to do some basic feature transformations, e.g., encoding of categorical features, or dropping of features you do not think will help or do not want to deal with yet.) Measure the performance using K-fold cross validation (recommended: [`sklearn.model_selection.cross_val_score`](https://scikit-learn.org/stable/modules/generated/sklearn.model_selection.cross_val_score.html#sklearn.model_selection.cross_val_score)) on the training data. Use at least 5 folds, but more are better. Choose a [`scoring` parameter](https://scikit-learn.org/stable/modules/model_evaluation.html#scoring-parameter) (i.e., classification metric) that you feel is appropriate for this task. Don't use accuracy. Print the mean score of your model.\n",
    "2. Add a bit of feature engineering. The [`sklearn.preprocessing`](https://scikit-learn.org/stable/modules/classes.html#module-sklearn.preprocessing) module contains many useful transformations. Engineer at least three new features. They don't need to be especially ground-breaking or complicated. Dimensionality reduction techniques like [`sklearn.decomposition.PCA`](https://scikit-learn.org/stable/modules/generated/sklearn.decomposition.PCA.html) are fair game but not required. (If you do use dimensionality reduction techniques, it would only count as \"one\" new feature for the purposes of this assignment, even though I realize that PCA creates many new \"features\" (i.e., principal componentns).) Re-train your baseline model. Measure performance. Compare to step 1.\n",
    "3. Add feature selection. The [`sklearn.feature_selection`](https://scikit-learn.org/stable/modules/classes.html#module-sklearn.feature_selection) has some algorithms for you to choose from. After selecting features, re-train your model, measure performance, and compare to step 2.\n",
    "4. Add hyperparameter tuning. Make reasonable choices and try to find the best (or at least, better) hyperparameters for your estimator and/or transformers. It's probably a good idea to stop using `cross_val_score` at this point and start using [`sklearn.model_selection.GridSearchCV`](https://scikit-learn.org/stable/modules/generated/sklearn.model_selection.GridSearchCV.html#sklearn.model_selection.GridSearchCV) as it is specifically built for this purpose and is more convienient to use. Measure performance and compare to step 3.\n",
    "5. Finally, estimate how well your model will work in production. Use the testing data (our \"future, unseen data\") from step 0. Transform the data as appropriate (easy if you've built a pipeline, a little more difficult if not), use the model from step 4 to get predictions, and measure the performance. How well did we do? \n",
    "\n",
    "\n",
    "**Marking**\n",
    "\n",
    "Each part will be marked for:\n",
    "- *Correctness*. Code clearly and fully performs the task specified.\n",
    "- *Reproducibility*. Code is fully reproducible. I.e., you (and I) should be able to run this Notebook again and again, from top to bottom, and get the same results each and every time.\n",
    "- *Style*. Code is organized. All parts commented with clear reasoning and rationale. No old code laying around. Code easy to follow. \n",
    "\n",
    "\n",
    "**Tips**\n",
    "- The origins of the dataset are a bit of a mystery. Assume the data set is recent (circa 2021) and up-to-date. Assume that column names are correct and accurate.\n",
    "- You don't need to experiment with more than one algorithm/estimator. Just choose one (e.g., [`sklearn.tree.DecisionTreeClassifier`](https://scikit-learn.org/stable/modules/generated/sklearn.tree.DecisionTreeClassifier.html#sklearn.tree.DecisionTreeClassifier), [`sklearn.ensemble.RandomForestClassifier`](https://scikit-learn.org/stable/modules/generated/sklearn.ensemble.RandomForestClassifier.html#sklearn.ensemble.RandomForestClassifier), [`sklearn.linear_model.LogisticRegression`](https://scikit-learn.org/stable/modules/generated/sklearn.linear_model.LogisticRegression.html#sklearn.linear_model.LogisticRegression), [`sklearn.svm.LinearSVC`](https://scikit-learn.org/stable/modules/generated/sklearn.svm.LinearSVC.html#sklearn.svm.LinearSVC), whatever) and stick with it for this question. \n",
    "- There is no minimum accuracy/precision/recall for this question. I.e., your mark will not be based on how good your model is. Rather, you mark will be based on good your process is.\n",
    "- Watch out for data leakage and overfitting. In particular, be sure to `fit()` any estimators and transformers (collectively, *objects*) only to the training data, and then use the objects' `transform()` methods on both the training and testing data. [Data School](https://www.youtube.com/c/dataschool/featured) has a [helpful video](https://www.youtube.com/watch?v=g2XsZdwbCCs) about this. [Pipelines](https://www.youtube.com/watch?v=1Y6O9nCo0-I) are very helpful here and make your code shorter and more robust (at the expense of making it harder to understand), and I recommend using them, but they are not required for this assignment.\n",
    "- Create as many code cells as you need. In general, each cell should do one \"thing.\"\n",
    "-\tDon't print large volumes of output. E.g., don't do: `df.head(100)`\n",
    "\n",
    "\n"
   ]
  },
  {
   "cell_type": "markdown",
   "metadata": {
    "id": "jqm_REd4oouz"
   },
   "source": [
    "## 3.0: Load data and split"
   ]
  },
  {
   "cell_type": "code",
   "execution_count": 34,
   "metadata": {
    "colab": {
     "base_uri": "https://localhost:8080/",
     "height": 0
    },
    "id": "X6b_BM0Nz9sF",
    "outputId": "bb45e983-6d32-469a-ded7-36ee976dcc9a"
   },
   "outputs": [
    {
     "name": "stdout",
     "output_type": "stream",
     "text": [
      "<class 'pandas.core.frame.DataFrame'>\n",
      "RangeIndex: 6000 entries, 0 to 5999\n",
      "Data columns (total 17 columns):\n",
      " #   Column             Non-Null Count  Dtype \n",
      "---  ------             --------------  ----- \n",
      " 0   UserID             6000 non-null   object\n",
      " 1   Sex                6000 non-null   object\n",
      " 2   PreviousDefault    6000 non-null   int64 \n",
      " 3   FirstName          6000 non-null   object\n",
      " 4   LastName           6000 non-null   object\n",
      " 5   NumberPets         6000 non-null   int64 \n",
      " 6   PreviousAccounts   6000 non-null   int64 \n",
      " 7   ResidenceDuration  6000 non-null   int64 \n",
      " 8   Street             6000 non-null   object\n",
      " 9   LicensePlate       6000 non-null   object\n",
      " 10  BadCredit          6000 non-null   int64 \n",
      " 11  Amount             6000 non-null   int64 \n",
      " 12  Married            6000 non-null   int64 \n",
      " 13  Duration           6000 non-null   int64 \n",
      " 14  City               6000 non-null   object\n",
      " 15  Purpose            6000 non-null   object\n",
      " 16  DateOfBirth        6000 non-null   object\n",
      "dtypes: int64(8), object(9)\n",
      "memory usage: 797.0+ KB\n"
     ]
    }
   ],
   "source": [
    "# DO NOT MODIFY THIS CELL\n",
    "\n",
    "# First, we'll read the provided labeled training data\n",
    "df3 = pd.read_csv(\"https://drive.google.com/uc?export=download&id=1wOhyCnvGeY4jplxI8lZ-bbYN3zLtickf\")\n",
    "df3.info()\n",
    "\n",
    "from sklearn.model_selection import train_test_split\n",
    "\n",
    "X = df3.drop('BadCredit', axis=1) #.select_dtypes(['number'])\n",
    "y = df3['BadCredit']\n",
    "\n",
    "X_train, X_test, y_train, y_test = train_test_split(X, y, test_size=0.2, random_state=42)"
   ]
  },
  {
   "cell_type": "code",
   "execution_count": 35,
   "metadata": {
    "colab": {
     "base_uri": "https://localhost:8080/",
     "height": 0
    },
    "id": "HKHMcbyHbWnA",
    "outputId": "3854bb50-b8b6-4eb8-ee5c-574f548e3650"
   },
   "outputs": [
    {
     "data": {
      "text/plain": [
       "0    4967\n",
       "1    1033\n",
       "Name: BadCredit, dtype: int64"
      ]
     },
     "execution_count": 35,
     "metadata": {},
     "output_type": "execute_result"
    }
   ],
   "source": [
    "df3['BadCredit'].value_counts()"
   ]
  },
  {
   "cell_type": "markdown",
   "metadata": {
    "id": "sdiKKblCo53S"
   },
   "source": [
    "## 3.1: Baseline model"
   ]
  },
  {
   "cell_type": "code",
   "execution_count": 36,
   "metadata": {
    "id": "mSumAZUAo9O6"
   },
   "outputs": [],
   "source": [
    "from sklearn.pipeline import Pipeline\n",
    "from xgboost import XGBClassifier\n",
    "from sklearn.preprocessing import OneHotEncoder\n",
    "from sklearn.compose import ColumnTransformer\n",
    "from sklearn.model_selection import cross_val_score"
   ]
  },
  {
   "cell_type": "code",
   "execution_count": 37,
   "metadata": {
    "id": "fbW_j-c5XrhN"
   },
   "outputs": [],
   "source": [
    "cols_to_drop = ['UserID', 'FirstName', 'LastName', 'LicensePlate']\n",
    "cols_do_not_use_for_now = ['Street', 'DateOfBirth']"
   ]
  },
  {
   "cell_type": "code",
   "execution_count": 38,
   "metadata": {
    "colab": {
     "base_uri": "https://localhost:8080/",
     "height": 0
    },
    "id": "CkdCBTv1W5z3",
    "outputId": "6493c4bc-35f7-499a-8f0f-45110b45f4e5"
   },
   "outputs": [
    {
     "name": "stdout",
     "output_type": "stream",
     "text": [
      "F    3338\n",
      "M    1462\n",
      "Name: Sex, dtype: int64 \n",
      "\n",
      "North Judithbury    1319\n",
      "East Jill            652\n",
      "New Roberttown       467\n",
      "East Jessetown       341\n",
      "Lake Debra           278\n",
      "Robinsonshire        252\n",
      "Lisatown             169\n",
      "Lake Roberto         164\n",
      "Ericmouth            155\n",
      "North Noahstad       139\n",
      "Cassandraton         130\n",
      "New Kellystad         99\n",
      "Lake Chad             97\n",
      "Herrerafurt           96\n",
      "Ramirezstad           94\n",
      "Port Keith            91\n",
      "Port Jesseville       70\n",
      "New Jessica           67\n",
      "West Michael          64\n",
      "Jacquelineland        56\n",
      "Name: City, dtype: int64 \n",
      "\n",
      "NewCar       1455\n",
      "UsedCar      1102\n",
      "Other         740\n",
      "Household     478\n",
      "Vacation      350\n",
      "Repair        348\n",
      "Education     258\n",
      "Business       69\n",
      "Name: Purpose, dtype: int64 \n",
      "\n"
     ]
    }
   ],
   "source": [
    "X_train = X_train.drop(columns=cols_to_drop+cols_do_not_use_for_now)\n",
    "# inspect how many categories are in non-numeric features and save these categorical features into categ_col\n",
    "categ_col = []\n",
    "for col in X_train.columns:\n",
    "    if X_train[col].dtypes not in ('int64', 'float64'):\n",
    "        print(X_train[col].value_counts(),'\\n')\n",
    "        categ_col.append(col)"
   ]
  },
  {
   "cell_type": "code",
   "execution_count": 39,
   "metadata": {
    "id": "uyRpz65pWXcX"
   },
   "outputs": [],
   "source": [
    "transformer = ColumnTransformer(transformers=[('cat', OneHotEncoder(handle_unknown='ignore'), categ_col)], \n",
    "                                remainder='passthrough')"
   ]
  },
  {
   "cell_type": "code",
   "execution_count": 40,
   "metadata": {
    "colab": {
     "base_uri": "https://localhost:8080/",
     "height": 0
    },
    "id": "KQ6FUUrGWXeA",
    "outputId": "bff3e33e-f40b-4361-c6c4-bd01adc742c7"
   },
   "outputs": [
    {
     "name": "stdout",
     "output_type": "stream",
     "text": [
      "CPU times: user 223 µs, sys: 56 µs, total: 279 µs\n",
      "Wall time: 287 µs\n"
     ]
    }
   ],
   "source": [
    "%%time\n",
    "pipe = Pipeline(steps=[(\"preprocessing\", transformer),\n",
    "                       ('xgb', XGBClassifier())],\n",
    "               verbose=False)"
   ]
  },
  {
   "cell_type": "code",
   "execution_count": 41,
   "metadata": {
    "colab": {
     "base_uri": "https://localhost:8080/",
     "height": 0
    },
    "id": "BMNo3Y5zWXf7",
    "outputId": "eff47ce6-44d9-45c5-97f5-8ec5120c12a0"
   },
   "outputs": [
    {
     "name": "stdout",
     "output_type": "stream",
     "text": [
      "0.8088384041776067\n"
     ]
    }
   ],
   "source": [
    "scores1 = cross_val_score(pipe, X_train, y_train, cv=10, scoring='f1_weighted')\n",
    "score1 = scores1.mean()\n",
    "print(score1)"
   ]
  },
  {
   "cell_type": "markdown",
   "metadata": {
    "id": "ugyTS51Ko5vz"
   },
   "source": [
    "## 3.2: Feature engineering"
   ]
  },
  {
   "cell_type": "code",
   "execution_count": 42,
   "metadata": {
    "id": "742aYkYbprVD"
   },
   "outputs": [],
   "source": [
    "X_train, X_test, y_train, y_test = train_test_split(X, y, test_size=0.2, random_state=42)"
   ]
  },
  {
   "cell_type": "code",
   "execution_count": 43,
   "metadata": {
    "id": "nVMylOtJJbUO"
   },
   "outputs": [],
   "source": [
    "# drop useless columns\n",
    "X_train.drop(columns=cols_to_drop, inplace=True)"
   ]
  },
  {
   "cell_type": "code",
   "execution_count": 44,
   "metadata": {
    "colab": {
     "base_uri": "https://localhost:8080/",
     "height": 263
    },
    "id": "Wz_j3PSoJjf-",
    "outputId": "e3c70b58-7a78-4d03-d497-c5621c2e2c26"
   },
   "outputs": [
    {
     "data": {
      "text/html": [
       "\n",
       "  <div id=\"df-83adc41f-3bbf-477a-b9d9-26633cae798e\">\n",
       "    <div class=\"colab-df-container\">\n",
       "      <div>\n",
       "<style scoped>\n",
       "    .dataframe tbody tr th:only-of-type {\n",
       "        vertical-align: middle;\n",
       "    }\n",
       "\n",
       "    .dataframe tbody tr th {\n",
       "        vertical-align: top;\n",
       "    }\n",
       "\n",
       "    .dataframe thead th {\n",
       "        text-align: right;\n",
       "    }\n",
       "</style>\n",
       "<table border=\"1\" class=\"dataframe\">\n",
       "  <thead>\n",
       "    <tr style=\"text-align: right;\">\n",
       "      <th></th>\n",
       "      <th>Sex</th>\n",
       "      <th>PreviousDefault</th>\n",
       "      <th>NumberPets</th>\n",
       "      <th>PreviousAccounts</th>\n",
       "      <th>ResidenceDuration</th>\n",
       "      <th>Street</th>\n",
       "      <th>Amount</th>\n",
       "      <th>Married</th>\n",
       "      <th>Duration</th>\n",
       "      <th>City</th>\n",
       "      <th>Purpose</th>\n",
       "      <th>DateOfBirth</th>\n",
       "    </tr>\n",
       "  </thead>\n",
       "  <tbody>\n",
       "    <tr>\n",
       "      <th>3897</th>\n",
       "      <td>M</td>\n",
       "      <td>0</td>\n",
       "      <td>2</td>\n",
       "      <td>0</td>\n",
       "      <td>2</td>\n",
       "      <td>0466 Brown Wall</td>\n",
       "      <td>3329</td>\n",
       "      <td>0</td>\n",
       "      <td>12</td>\n",
       "      <td>New Roberttown</td>\n",
       "      <td>Household</td>\n",
       "      <td>1970-04-22</td>\n",
       "    </tr>\n",
       "    <tr>\n",
       "      <th>5628</th>\n",
       "      <td>F</td>\n",
       "      <td>0</td>\n",
       "      <td>0</td>\n",
       "      <td>2</td>\n",
       "      <td>2</td>\n",
       "      <td>6095 Larson Causeway</td>\n",
       "      <td>2996</td>\n",
       "      <td>0</td>\n",
       "      <td>36</td>\n",
       "      <td>Ericmouth</td>\n",
       "      <td>Household</td>\n",
       "      <td>1964-06-19</td>\n",
       "    </tr>\n",
       "  </tbody>\n",
       "</table>\n",
       "</div>\n",
       "      <button class=\"colab-df-convert\" onclick=\"convertToInteractive('df-83adc41f-3bbf-477a-b9d9-26633cae798e')\"\n",
       "              title=\"Convert this dataframe to an interactive table.\"\n",
       "              style=\"display:none;\">\n",
       "        \n",
       "  <svg xmlns=\"http://www.w3.org/2000/svg\" height=\"24px\"viewBox=\"0 0 24 24\"\n",
       "       width=\"24px\">\n",
       "    <path d=\"M0 0h24v24H0V0z\" fill=\"none\"/>\n",
       "    <path d=\"M18.56 5.44l.94 2.06.94-2.06 2.06-.94-2.06-.94-.94-2.06-.94 2.06-2.06.94zm-11 1L8.5 8.5l.94-2.06 2.06-.94-2.06-.94L8.5 2.5l-.94 2.06-2.06.94zm10 10l.94 2.06.94-2.06 2.06-.94-2.06-.94-.94-2.06-.94 2.06-2.06.94z\"/><path d=\"M17.41 7.96l-1.37-1.37c-.4-.4-.92-.59-1.43-.59-.52 0-1.04.2-1.43.59L10.3 9.45l-7.72 7.72c-.78.78-.78 2.05 0 2.83L4 21.41c.39.39.9.59 1.41.59.51 0 1.02-.2 1.41-.59l7.78-7.78 2.81-2.81c.8-.78.8-2.07 0-2.86zM5.41 20L4 18.59l7.72-7.72 1.47 1.35L5.41 20z\"/>\n",
       "  </svg>\n",
       "      </button>\n",
       "      \n",
       "  <style>\n",
       "    .colab-df-container {\n",
       "      display:flex;\n",
       "      flex-wrap:wrap;\n",
       "      gap: 12px;\n",
       "    }\n",
       "\n",
       "    .colab-df-convert {\n",
       "      background-color: #E8F0FE;\n",
       "      border: none;\n",
       "      border-radius: 50%;\n",
       "      cursor: pointer;\n",
       "      display: none;\n",
       "      fill: #1967D2;\n",
       "      height: 32px;\n",
       "      padding: 0 0 0 0;\n",
       "      width: 32px;\n",
       "    }\n",
       "\n",
       "    .colab-df-convert:hover {\n",
       "      background-color: #E2EBFA;\n",
       "      box-shadow: 0px 1px 2px rgba(60, 64, 67, 0.3), 0px 1px 3px 1px rgba(60, 64, 67, 0.15);\n",
       "      fill: #174EA6;\n",
       "    }\n",
       "\n",
       "    [theme=dark] .colab-df-convert {\n",
       "      background-color: #3B4455;\n",
       "      fill: #D2E3FC;\n",
       "    }\n",
       "\n",
       "    [theme=dark] .colab-df-convert:hover {\n",
       "      background-color: #434B5C;\n",
       "      box-shadow: 0px 1px 3px 1px rgba(0, 0, 0, 0.15);\n",
       "      filter: drop-shadow(0px 1px 2px rgba(0, 0, 0, 0.3));\n",
       "      fill: #FFFFFF;\n",
       "    }\n",
       "  </style>\n",
       "\n",
       "      <script>\n",
       "        const buttonEl =\n",
       "          document.querySelector('#df-83adc41f-3bbf-477a-b9d9-26633cae798e button.colab-df-convert');\n",
       "        buttonEl.style.display =\n",
       "          google.colab.kernel.accessAllowed ? 'block' : 'none';\n",
       "\n",
       "        async function convertToInteractive(key) {\n",
       "          const element = document.querySelector('#df-83adc41f-3bbf-477a-b9d9-26633cae798e');\n",
       "          const dataTable =\n",
       "            await google.colab.kernel.invokeFunction('convertToInteractive',\n",
       "                                                     [key], {});\n",
       "          if (!dataTable) return;\n",
       "\n",
       "          const docLinkHtml = 'Like what you see? Visit the ' +\n",
       "            '<a target=\"_blank\" href=https://colab.research.google.com/notebooks/data_table.ipynb>data table notebook</a>'\n",
       "            + ' to learn more about interactive tables.';\n",
       "          element.innerHTML = '';\n",
       "          dataTable['output_type'] = 'display_data';\n",
       "          await google.colab.output.renderOutput(dataTable, element);\n",
       "          const docLink = document.createElement('div');\n",
       "          docLink.innerHTML = docLinkHtml;\n",
       "          element.appendChild(docLink);\n",
       "        }\n",
       "      </script>\n",
       "    </div>\n",
       "  </div>\n",
       "  "
      ],
      "text/plain": [
       "     Sex  PreviousDefault  NumberPets  ...            City    Purpose DateOfBirth\n",
       "3897   M                0           2  ...  New Roberttown  Household  1970-04-22\n",
       "5628   F                0           0  ...       Ericmouth  Household  1964-06-19\n",
       "\n",
       "[2 rows x 12 columns]"
      ]
     },
     "metadata": {},
     "output_type": "display_data"
    },
    {
     "name": "stdout",
     "output_type": "stream",
     "text": [
      "(4800, 12)\n"
     ]
    }
   ],
   "source": [
    "display(X_train.head(2))\n",
    "print(X_train.shape)"
   ]
  },
  {
   "cell_type": "markdown",
   "metadata": {
    "id": "5pgw8hcd6KnP"
   },
   "source": [
    "First feature: home_type (Condo, Apartment or House)"
   ]
  },
  {
   "cell_type": "code",
   "execution_count": 45,
   "metadata": {
    "id": "0sh13lREUTuc"
   },
   "outputs": [],
   "source": [
    "# assign home type based on street address\n",
    "X_train.loc[X_train.Street.str.contains('Suite'), 'home_type'] = 'Condo'\n",
    "X_train.loc[X_train.Street.str.contains('Apt.'), 'home_type'] = 'Apartment'\n",
    "X_train.loc[X_train.home_type.isnull(), 'home_type'] = 'House'"
   ]
  },
  {
   "cell_type": "code",
   "execution_count": 46,
   "metadata": {
    "colab": {
     "base_uri": "https://localhost:8080/",
     "height": 0
    },
    "id": "2T8SvJruZcFw",
    "outputId": "78e6fcf4-a099-465a-bf65-0553651b5f57"
   },
   "outputs": [
    {
     "data": {
      "text/plain": [
       "House        2439\n",
       "Condo        1200\n",
       "Apartment    1161\n",
       "Name: home_type, dtype: int64"
      ]
     },
     "execution_count": 46,
     "metadata": {},
     "output_type": "execute_result"
    }
   ],
   "source": [
    "X_train.home_type.value_counts()"
   ]
  },
  {
   "cell_type": "markdown",
   "metadata": {
    "id": "xCwt8iJT6RTc"
   },
   "source": [
    "Second feature: age"
   ]
  },
  {
   "cell_type": "code",
   "execution_count": 47,
   "metadata": {
    "id": "NMnCXPkQb6zO"
   },
   "outputs": [],
   "source": [
    "# prepare to calculate age from date of birth\n",
    "now = pd.Timestamp('2022-01-10')\n",
    "X_train['DateOfBirth'] = X_train['DateOfBirth'].apply(lambda x: pd.Timestamp(x))"
   ]
  },
  {
   "cell_type": "code",
   "execution_count": 48,
   "metadata": {
    "colab": {
     "base_uri": "https://localhost:8080/",
     "height": 206
    },
    "id": "mxngPVmzb64X",
    "outputId": "f5738390-17a3-4082-fd49-528af56f2daf"
   },
   "outputs": [
    {
     "data": {
      "text/html": [
       "\n",
       "  <div id=\"df-3267cef3-c88d-4132-a0cd-736ce8993c5e\">\n",
       "    <div class=\"colab-df-container\">\n",
       "      <div>\n",
       "<style scoped>\n",
       "    .dataframe tbody tr th:only-of-type {\n",
       "        vertical-align: middle;\n",
       "    }\n",
       "\n",
       "    .dataframe tbody tr th {\n",
       "        vertical-align: top;\n",
       "    }\n",
       "\n",
       "    .dataframe thead th {\n",
       "        text-align: right;\n",
       "    }\n",
       "</style>\n",
       "<table border=\"1\" class=\"dataframe\">\n",
       "  <thead>\n",
       "    <tr style=\"text-align: right;\">\n",
       "      <th></th>\n",
       "      <th>age</th>\n",
       "      <th>DateOfBirth</th>\n",
       "    </tr>\n",
       "  </thead>\n",
       "  <tbody>\n",
       "    <tr>\n",
       "      <th>3897</th>\n",
       "      <td>51.0</td>\n",
       "      <td>1970-04-22</td>\n",
       "    </tr>\n",
       "    <tr>\n",
       "      <th>5628</th>\n",
       "      <td>57.0</td>\n",
       "      <td>1964-06-19</td>\n",
       "    </tr>\n",
       "    <tr>\n",
       "      <th>1756</th>\n",
       "      <td>46.0</td>\n",
       "      <td>1975-02-17</td>\n",
       "    </tr>\n",
       "    <tr>\n",
       "      <th>2346</th>\n",
       "      <td>44.0</td>\n",
       "      <td>1977-02-16</td>\n",
       "    </tr>\n",
       "    <tr>\n",
       "      <th>2996</th>\n",
       "      <td>45.0</td>\n",
       "      <td>1976-07-27</td>\n",
       "    </tr>\n",
       "  </tbody>\n",
       "</table>\n",
       "</div>\n",
       "      <button class=\"colab-df-convert\" onclick=\"convertToInteractive('df-3267cef3-c88d-4132-a0cd-736ce8993c5e')\"\n",
       "              title=\"Convert this dataframe to an interactive table.\"\n",
       "              style=\"display:none;\">\n",
       "        \n",
       "  <svg xmlns=\"http://www.w3.org/2000/svg\" height=\"24px\"viewBox=\"0 0 24 24\"\n",
       "       width=\"24px\">\n",
       "    <path d=\"M0 0h24v24H0V0z\" fill=\"none\"/>\n",
       "    <path d=\"M18.56 5.44l.94 2.06.94-2.06 2.06-.94-2.06-.94-.94-2.06-.94 2.06-2.06.94zm-11 1L8.5 8.5l.94-2.06 2.06-.94-2.06-.94L8.5 2.5l-.94 2.06-2.06.94zm10 10l.94 2.06.94-2.06 2.06-.94-2.06-.94-.94-2.06-.94 2.06-2.06.94z\"/><path d=\"M17.41 7.96l-1.37-1.37c-.4-.4-.92-.59-1.43-.59-.52 0-1.04.2-1.43.59L10.3 9.45l-7.72 7.72c-.78.78-.78 2.05 0 2.83L4 21.41c.39.39.9.59 1.41.59.51 0 1.02-.2 1.41-.59l7.78-7.78 2.81-2.81c.8-.78.8-2.07 0-2.86zM5.41 20L4 18.59l7.72-7.72 1.47 1.35L5.41 20z\"/>\n",
       "  </svg>\n",
       "      </button>\n",
       "      \n",
       "  <style>\n",
       "    .colab-df-container {\n",
       "      display:flex;\n",
       "      flex-wrap:wrap;\n",
       "      gap: 12px;\n",
       "    }\n",
       "\n",
       "    .colab-df-convert {\n",
       "      background-color: #E8F0FE;\n",
       "      border: none;\n",
       "      border-radius: 50%;\n",
       "      cursor: pointer;\n",
       "      display: none;\n",
       "      fill: #1967D2;\n",
       "      height: 32px;\n",
       "      padding: 0 0 0 0;\n",
       "      width: 32px;\n",
       "    }\n",
       "\n",
       "    .colab-df-convert:hover {\n",
       "      background-color: #E2EBFA;\n",
       "      box-shadow: 0px 1px 2px rgba(60, 64, 67, 0.3), 0px 1px 3px 1px rgba(60, 64, 67, 0.15);\n",
       "      fill: #174EA6;\n",
       "    }\n",
       "\n",
       "    [theme=dark] .colab-df-convert {\n",
       "      background-color: #3B4455;\n",
       "      fill: #D2E3FC;\n",
       "    }\n",
       "\n",
       "    [theme=dark] .colab-df-convert:hover {\n",
       "      background-color: #434B5C;\n",
       "      box-shadow: 0px 1px 3px 1px rgba(0, 0, 0, 0.15);\n",
       "      filter: drop-shadow(0px 1px 2px rgba(0, 0, 0, 0.3));\n",
       "      fill: #FFFFFF;\n",
       "    }\n",
       "  </style>\n",
       "\n",
       "      <script>\n",
       "        const buttonEl =\n",
       "          document.querySelector('#df-3267cef3-c88d-4132-a0cd-736ce8993c5e button.colab-df-convert');\n",
       "        buttonEl.style.display =\n",
       "          google.colab.kernel.accessAllowed ? 'block' : 'none';\n",
       "\n",
       "        async function convertToInteractive(key) {\n",
       "          const element = document.querySelector('#df-3267cef3-c88d-4132-a0cd-736ce8993c5e');\n",
       "          const dataTable =\n",
       "            await google.colab.kernel.invokeFunction('convertToInteractive',\n",
       "                                                     [key], {});\n",
       "          if (!dataTable) return;\n",
       "\n",
       "          const docLinkHtml = 'Like what you see? Visit the ' +\n",
       "            '<a target=\"_blank\" href=https://colab.research.google.com/notebooks/data_table.ipynb>data table notebook</a>'\n",
       "            + ' to learn more about interactive tables.';\n",
       "          element.innerHTML = '';\n",
       "          dataTable['output_type'] = 'display_data';\n",
       "          await google.colab.output.renderOutput(dataTable, element);\n",
       "          const docLink = document.createElement('div');\n",
       "          docLink.innerHTML = docLinkHtml;\n",
       "          element.appendChild(docLink);\n",
       "        }\n",
       "      </script>\n",
       "    </div>\n",
       "  </div>\n",
       "  "
      ],
      "text/plain": [
       "       age DateOfBirth\n",
       "3897  51.0  1970-04-22\n",
       "5628  57.0  1964-06-19\n",
       "1756  46.0  1975-02-17\n",
       "2346  44.0  1977-02-16\n",
       "2996  45.0  1976-07-27"
      ]
     },
     "execution_count": 48,
     "metadata": {},
     "output_type": "execute_result"
    }
   ],
   "source": [
    "X_train['age'] = (now - X_train['DateOfBirth']).astype('<m8[Y]')\n",
    "# verify age is calculated correctly\n",
    "X_train[['age', 'DateOfBirth']].head()"
   ]
  },
  {
   "cell_type": "markdown",
   "metadata": {
    "id": "xzmilDZI6uCf"
   },
   "source": [
    "Third feature: monthly_payment (= Amount / Duration)"
   ]
  },
  {
   "cell_type": "code",
   "execution_count": 49,
   "metadata": {
    "id": "9oObZP8f62E9"
   },
   "outputs": [],
   "source": [
    "X_train['monthly_payment'] = X_train.Amount / X_train.Duration"
   ]
  },
  {
   "cell_type": "code",
   "execution_count": 50,
   "metadata": {
    "id": "S35UXv1O62K9"
   },
   "outputs": [],
   "source": [
    "X_train.drop(columns=['Street', 'DateOfBirth'], inplace=True)"
   ]
  },
  {
   "cell_type": "code",
   "execution_count": 51,
   "metadata": {
    "id": "25fP1gsJ62Pa"
   },
   "outputs": [],
   "source": [
    "transformer = ColumnTransformer(transformers=[('cat', OneHotEncoder(handle_unknown='ignore'), categ_col+['home_type'])], \n",
    "                                remainder='passthrough')"
   ]
  },
  {
   "cell_type": "code",
   "execution_count": 52,
   "metadata": {
    "colab": {
     "base_uri": "https://localhost:8080/",
     "height": 0
    },
    "id": "FKPKg1R162U9",
    "outputId": "829de75d-fb94-4ca7-b978-11da678aabb7"
   },
   "outputs": [
    {
     "name": "stdout",
     "output_type": "stream",
     "text": [
      "CPU times: user 247 µs, sys: 0 ns, total: 247 µs\n",
      "Wall time: 255 µs\n"
     ]
    }
   ],
   "source": [
    "%%time\n",
    "pipe = Pipeline(steps=[(\"preprocessing\", transformer),\n",
    "                       ('xgb', XGBClassifier())],\n",
    "               verbose=False)"
   ]
  },
  {
   "cell_type": "code",
   "execution_count": 53,
   "metadata": {
    "colab": {
     "base_uri": "https://localhost:8080/",
     "height": 0
    },
    "id": "iiAaTLgn8i5a",
    "outputId": "4b67b73a-faf3-4d8f-98be-a029cceb123e"
   },
   "outputs": [
    {
     "name": "stdout",
     "output_type": "stream",
     "text": [
      "0.8810112603033536\n"
     ]
    }
   ],
   "source": [
    "scores2 = cross_val_score(pipe, X_train, y_train, cv=10, scoring='f1_weighted')\n",
    "score2 = scores2.mean()\n",
    "print(score2)"
   ]
  },
  {
   "cell_type": "code",
   "execution_count": 54,
   "metadata": {
    "colab": {
     "base_uri": "https://localhost:8080/",
     "height": 0
    },
    "id": "tMADL2vq9fyL",
    "outputId": "66285737-688c-4da6-ac42-a908e95f505b"
   },
   "outputs": [
    {
     "name": "stdout",
     "output_type": "stream",
     "text": [
      "After feature engineering, the f1_weighted score has went up from 0.81 to 0.88, an increase of 0.07\n"
     ]
    }
   ],
   "source": [
    "print(f'After feature engineering, the f1_weighted score has went up from \\\n",
    "{round(score1,2)} to {round(score2, 2)}, an increase of {round(score2-score1,2)}')"
   ]
  },
  {
   "cell_type": "markdown",
   "metadata": {
    "id": "PsdD0clko5pz"
   },
   "source": [
    "## 3.3: Feature selection"
   ]
  },
  {
   "cell_type": "code",
   "execution_count": 55,
   "metadata": {
    "id": "tMgqB9yTBjfQ"
   },
   "outputs": [],
   "source": [
    "from sklearn.feature_selection import RFE"
   ]
  },
  {
   "cell_type": "code",
   "execution_count": 56,
   "metadata": {
    "id": "aZvl2lqKZbb_"
   },
   "outputs": [],
   "source": [
    "transformer = ColumnTransformer(transformers=[('cat', OneHotEncoder(handle_unknown='ignore'), categ_col+['home_type'])], \n",
    "                                remainder='passthrough')"
   ]
  },
  {
   "cell_type": "code",
   "execution_count": 57,
   "metadata": {
    "colab": {
     "base_uri": "https://localhost:8080/",
     "height": 0
    },
    "id": "eizl0noFBW_T",
    "outputId": "14cd09b5-cfd1-4335-9dce-ca7a9a7625f6"
   },
   "outputs": [
    {
     "name": "stdout",
     "output_type": "stream",
     "text": [
      "CPU times: user 300 µs, sys: 0 ns, total: 300 µs\n",
      "Wall time: 544 µs\n"
     ]
    }
   ],
   "source": [
    "%%time\n",
    "pipe = Pipeline(steps=[(\"preprocessing\", transformer),\n",
    "                       (\"fea_sel\", RFE(XGBClassifier(), step=1)),\n",
    "                       ('xgb', XGBClassifier())],\n",
    "               verbose=True)"
   ]
  },
  {
   "cell_type": "code",
   "execution_count": 58,
   "metadata": {
    "colab": {
     "base_uri": "https://localhost:8080/",
     "height": 0
    },
    "id": "UzlkRUehBXDO",
    "outputId": "a8593864-5666-4acb-c43e-1fa1f0d8255c"
   },
   "outputs": [
    {
     "name": "stdout",
     "output_type": "stream",
     "text": [
      "[Pipeline] ..... (step 1 of 3) Processing preprocessing, total=   0.0s\n",
      "[Pipeline] ........... (step 2 of 3) Processing fea_sel, total=   9.8s\n",
      "[Pipeline] ............... (step 3 of 3) Processing xgb, total=   0.4s\n",
      "[Pipeline] ..... (step 1 of 3) Processing preprocessing, total=   0.0s\n",
      "[Pipeline] ........... (step 2 of 3) Processing fea_sel, total=   9.7s\n",
      "[Pipeline] ............... (step 3 of 3) Processing xgb, total=   0.3s\n",
      "[Pipeline] ..... (step 1 of 3) Processing preprocessing, total=   0.0s\n",
      "[Pipeline] ........... (step 2 of 3) Processing fea_sel, total=   9.8s\n",
      "[Pipeline] ............... (step 3 of 3) Processing xgb, total=   0.3s\n",
      "[Pipeline] ..... (step 1 of 3) Processing preprocessing, total=   0.0s\n",
      "[Pipeline] ........... (step 2 of 3) Processing fea_sel, total=   9.7s\n",
      "[Pipeline] ............... (step 3 of 3) Processing xgb, total=   0.4s\n",
      "[Pipeline] ..... (step 1 of 3) Processing preprocessing, total=   0.0s\n",
      "[Pipeline] ........... (step 2 of 3) Processing fea_sel, total=   9.7s\n",
      "[Pipeline] ............... (step 3 of 3) Processing xgb, total=   0.3s\n",
      "[Pipeline] ..... (step 1 of 3) Processing preprocessing, total=   0.0s\n",
      "[Pipeline] ........... (step 2 of 3) Processing fea_sel, total=   9.5s\n",
      "[Pipeline] ............... (step 3 of 3) Processing xgb, total=   0.4s\n",
      "[Pipeline] ..... (step 1 of 3) Processing preprocessing, total=   0.0s\n",
      "[Pipeline] ........... (step 2 of 3) Processing fea_sel, total=   9.4s\n",
      "[Pipeline] ............... (step 3 of 3) Processing xgb, total=   0.3s\n",
      "[Pipeline] ..... (step 1 of 3) Processing preprocessing, total=   0.0s\n",
      "[Pipeline] ........... (step 2 of 3) Processing fea_sel, total=   9.4s\n",
      "[Pipeline] ............... (step 3 of 3) Processing xgb, total=   0.3s\n",
      "[Pipeline] ..... (step 1 of 3) Processing preprocessing, total=   0.0s\n",
      "[Pipeline] ........... (step 2 of 3) Processing fea_sel, total=   9.5s\n",
      "[Pipeline] ............... (step 3 of 3) Processing xgb, total=   0.3s\n",
      "[Pipeline] ..... (step 1 of 3) Processing preprocessing, total=   0.0s\n",
      "[Pipeline] ........... (step 2 of 3) Processing fea_sel, total=   9.5s\n",
      "[Pipeline] ............... (step 3 of 3) Processing xgb, total=   0.3s\n",
      "0.8803703829823035\n"
     ]
    }
   ],
   "source": [
    "scores3 = cross_val_score(pipe, X_train, y_train, cv=10, scoring='f1_weighted')\n",
    "score3 = scores3.mean()\n",
    "print(score3)"
   ]
  },
  {
   "cell_type": "code",
   "execution_count": 59,
   "metadata": {
    "colab": {
     "base_uri": "https://localhost:8080/",
     "height": 0
    },
    "id": "3VDJgxxNLhoE",
    "outputId": "dd324b2a-42ef-4385-eba7-4060a77f30ab"
   },
   "outputs": [
    {
     "name": "stdout",
     "output_type": "stream",
     "text": [
      "After feature selection, the f1_weighted score has went down from 0.881 to 0.88, a decrease of -0.001\n"
     ]
    }
   ],
   "source": [
    "print(f'After feature selection, the f1_weighted score has went down from \\\n",
    "{round(score2,3)} to {round(score3, 3)}, a decrease of {round(score3-score2,3)}')"
   ]
  },
  {
   "cell_type": "markdown",
   "metadata": {
    "id": "Ff4l2aNKo5fr"
   },
   "source": [
    "## 3.4: Hyperparameter tuning"
   ]
  },
  {
   "cell_type": "code",
   "execution_count": 60,
   "metadata": {
    "id": "5c1u4U25OIb7"
   },
   "outputs": [],
   "source": [
    "from sklearn import model_selection\n",
    "from sklearn.metrics import f1_score"
   ]
  },
  {
   "cell_type": "code",
   "execution_count": 61,
   "metadata": {
    "colab": {
     "base_uri": "https://localhost:8080/",
     "height": 0
    },
    "id": "wp789vD3bp8Z",
    "outputId": "785ad44b-0fba-43d9-a188-bc9a2da9beb8"
   },
   "outputs": [
    {
     "name": "stdout",
     "output_type": "stream",
     "text": [
      "3\n",
      "100\n",
      "0.1\n"
     ]
    }
   ],
   "source": [
    "# see what the current hyperparameters are\n",
    "print(pipe.get_params()['xgb__max_depth'])\n",
    "print(pipe.get_params()['xgb__n_estimators'])\n",
    "print(pipe.get_params()['xgb__learning_rate'])"
   ]
  },
  {
   "cell_type": "code",
   "execution_count": 62,
   "metadata": {
    "colab": {
     "base_uri": "https://localhost:8080/",
     "height": 0
    },
    "id": "efg26XwyMtfP",
    "outputId": "2f025bbf-8e03-40a5-9cc4-58cae321302a"
   },
   "outputs": [
    {
     "name": "stdout",
     "output_type": "stream",
     "text": [
      "CPU times: user 236 µs, sys: 4 µs, total: 240 µs\n",
      "Wall time: 251 µs\n"
     ]
    }
   ],
   "source": [
    "%%time\n",
    "# since feature selection didn't help the model, it's removed in this pipeline\n",
    "pipe = Pipeline(steps=[(\"preprocessing\", transformer),\n",
    "                       ('xgb', XGBClassifier())],\n",
    "               verbose=True)\n",
    "\n",
    "param_grid = {\n",
    "    'xgb__max_depth': [1,2,3],\n",
    "    'xgb__n_estimators': [80, 100, 500],\n",
    "    'xgb__learning_rate': [0.05, 0.1, 0.2]\n",
    "}"
   ]
  },
  {
   "cell_type": "code",
   "execution_count": 63,
   "metadata": {
    "colab": {
     "base_uri": "https://localhost:8080/",
     "height": 0
    },
    "id": "7XaxtTWMpIpP",
    "outputId": "a4c5e40a-842f-4fac-dd26-c92073251bb3"
   },
   "outputs": [
    {
     "name": "stdout",
     "output_type": "stream",
     "text": [
      "Fitting 10 folds for each of 27 candidates, totalling 270 fits\n",
      "[Pipeline] ..... (step 1 of 2) Processing preprocessing, total=   0.0s\n",
      "[Pipeline] ............... (step 2 of 2) Processing xgb, total=   0.6s\n"
     ]
    }
   ],
   "source": [
    "search = model_selection.GridSearchCV(pipe, param_grid, cv=10, n_jobs=-1, scoring='f1_weighted', return_train_score=False, verbose=2)\n",
    "search = search.fit(X_train, y_train)"
   ]
  },
  {
   "cell_type": "code",
   "execution_count": 64,
   "metadata": {
    "colab": {
     "base_uri": "https://localhost:8080/",
     "height": 0
    },
    "id": "yRrSRctUUxs2",
    "outputId": "81e68af5-d51f-4ad7-d305-198c6790bc2c"
   },
   "outputs": [
    {
     "data": {
      "text/plain": [
       "{'xgb__learning_rate': 0.05, 'xgb__max_depth': 3, 'xgb__n_estimators': 100}"
      ]
     },
     "execution_count": 64,
     "metadata": {},
     "output_type": "execute_result"
    }
   ],
   "source": [
    "search.best_params_"
   ]
  },
  {
   "cell_type": "code",
   "execution_count": 65,
   "metadata": {
    "colab": {
     "base_uri": "https://localhost:8080/",
     "height": 0
    },
    "id": "dbqHQGTTVOHb",
    "outputId": "0568e308-56fd-4e9b-f1b6-f25f74259433"
   },
   "outputs": [
    {
     "name": "stdout",
     "output_type": "stream",
     "text": [
      "0.8833611675680932\n"
     ]
    }
   ],
   "source": [
    "score4 = search.cv_results_['mean_test_score'].max()\n",
    "print(score4)"
   ]
  },
  {
   "cell_type": "code",
   "execution_count": 66,
   "metadata": {
    "colab": {
     "base_uri": "https://localhost:8080/",
     "height": 0
    },
    "id": "0yePUkbdUEZU",
    "outputId": "13d39c55-64d7-4448-ebc8-1d2add579e92"
   },
   "outputs": [
    {
     "name": "stdout",
     "output_type": "stream",
     "text": [
      "After hyperparameter tuning, the f1_weighted score has increased from 0.883 to 0.88, an increase of 0.003\n"
     ]
    }
   ],
   "source": [
    "print(f'After hyperparameter tuning, the f1_weighted score has increased from \\\n",
    "{round(score4,3)} to {round(score3, 3)}, an increase of {round(score4-score3,3)}')"
   ]
  },
  {
   "cell_type": "markdown",
   "metadata": {
    "id": "Te9gGGLEpXRG"
   },
   "source": [
    "## 3.5: Performance estimation"
   ]
  },
  {
   "cell_type": "code",
   "execution_count": 67,
   "metadata": {
    "id": "ihw5hPf9g-jl"
   },
   "outputs": [],
   "source": [
    "from sklearn.metrics import classification_report"
   ]
  },
  {
   "cell_type": "code",
   "execution_count": 68,
   "metadata": {
    "id": "YV_35bEupbfs"
   },
   "outputs": [],
   "source": [
    "# create features the same way as in the X_train dataset\n",
    "X_test.loc[X_test.Street.str.contains('Suite'), 'home_type'] = 'Condo'\n",
    "X_test.loc[X_test.Street.str.contains('Apt.'), 'home_type'] = 'Apartment'\n",
    "X_test.loc[X_test.home_type.isnull(), 'home_type'] = 'House'\n",
    "\n",
    "X_test['DateOfBirth'] = X_test['DateOfBirth'].apply(lambda x: pd.Timestamp(x))\n",
    "X_test['age'] = (now - X_test['DateOfBirth']).astype('<m8[Y]')\n",
    "\n",
    "X_test['monthly_payment'] = X_test.Amount / X_test.Duration"
   ]
  },
  {
   "cell_type": "code",
   "execution_count": 69,
   "metadata": {
    "id": "NRCmDfZ7gIfv"
   },
   "outputs": [],
   "source": [
    "X_test.drop(columns=cols_do_not_use_for_now+cols_to_drop, inplace=True)"
   ]
  },
  {
   "cell_type": "code",
   "execution_count": 70,
   "metadata": {
    "colab": {
     "base_uri": "https://localhost:8080/",
     "height": 0
    },
    "id": "zamj3UCLgfZT",
    "outputId": "ae07d532-c974-4ddd-91af-1d20fcf3ff9e"
   },
   "outputs": [
    {
     "name": "stdout",
     "output_type": "stream",
     "text": [
      "              precision    recall  f1-score   support\n",
      "\n",
      "           0       0.92      0.96      0.94       991\n",
      "           1       0.75      0.61      0.67       209\n",
      "\n",
      "    accuracy                           0.90      1200\n",
      "   macro avg       0.84      0.78      0.81      1200\n",
      "weighted avg       0.89      0.90      0.89      1200\n",
      "\n",
      "testing f1 weighted score = 0.8922\n"
     ]
    }
   ],
   "source": [
    "y_pred = search.predict(X_test)\n",
    "class_names = [str(x) for x in search.classes_]\n",
    "print(classification_report(y_test, y_pred, target_names=class_names))\n",
    "print(\"testing f1 weighted score = {:.4f}\".format(f1_score(y_test, y_pred, average='weighted')))"
   ]
  },
  {
   "cell_type": "markdown",
   "metadata": {
    "id": "whqsNWVvik-k"
   },
   "source": [
    "Our model did pretty well on the unseen dataset with a weighted f1 macro score of 0.8922. This score is even slightly higher than that of the training set. So there is no overfitting issue. The model predicted non-risk customers pretty well with 0.92 precision and 0.96 recall. In conclusion, it is expected that the model will perform well in production based on the confusion matrix."
   ]
  },
  {
   "cell_type": "markdown",
   "metadata": {
    "id": "bPiErnUaTQSk"
   },
   "source": [
    "# Question 4: Uncle Steve's Wind Farm"
   ]
  },
  {
   "cell_type": "markdown",
   "metadata": {
    "id": "NzLLQCmKTk9E"
   },
   "source": [
    "## Instructions\n",
    "\n",
    "\n",
    "Uncle Steve has invested in wind. He's built a BIG wind farm with a total of  700 turbines. He's been running the farm for a couple of years now and things are going well. He sells the power generated by the farm to the Kingston government and makes a tidy profit. And, of course, he has been gathering data about the turbines' operations.\n",
    "\n",
    "One area of concern, however, is the cost of maintenece. While the turbines are fairly robust, it seems like one breaks/fails every couple of days. When a turbine fails, it usually costs around \\$20,000 to repair it. Yikes!\n",
    "\n",
    "Currently, Uncle Steve is not doing any preventative maintenance. He just waits until a turbine fails, and then he fixes it. But Uncle Steve has recently learned that if he services a turbine *before* it fails, it will only cost around $2,000. \n",
    "\n",
    "Obviously, there is a potential to save a lot of money here. But first, Uncle Steve would need to figure out *which* turbines are about to fail. Uncle Steve being Uncle Steve, he wants to use ML to build a predictive maintenance model. The model will alert Uncle Steve to potential turbine failures before they happen, giving Uncle Steve a chance to perform an inspection on the turbine and then fix the turbine before it fails. Uncle Steve plans to run the model every morning. For all the turbines that the model predicts will fail, Uncle Steve will order an inspection (which cost a flat \\$500, no matter if the turbine was in good health or not; the \\$500 would not be part of the $2,000 service cost). For the rest of the turbines, Uncle Steve will do nothing.\n",
    "\n",
    "Uncle Steve has used the last few year's worth of operation data to build and assess a model to predict which turbines will fail on any given day. (The data includes useful features like sensor readings, power output, weather, and many more, but those are not important for now.) In fact, he didn't stop there: he built and assessed two models. One model uses using deep learning (in this case, RNNs), and the other uses random forests.\n",
    "\n",
    "He's tuned the bejeebers out of each model and is comfortable that he has found the best-performing version of each. Both models seem really good: both have accuracy scores > 99%. The RNN has better recall, but Uncle Steve is convinced that the random forest model will be better for him since it has better precision. Just to be sure, he has hired you to double check his calculations. \n",
    "\n",
    "**Your task**\n",
    "\n",
    " Which model will save Uncle Steve more money? Justify.\n",
    "\n",
    "\n",
    "In addition to the details above, here is the assessment of each model:\n",
    "\n",
    "- Confusion matrix for the random forest:\n",
    "\n",
    "|         | Predicted Fail           | Predicted No Fail  |\n",
    "| ------------- |------------| -----:|\n",
    "| **Actual Fail**      | 201 | 55 |\n",
    "| **Actual No Fail**   | 50 | 255195 |\n",
    "\n",
    "- Confusion matrix for the RNN:\n",
    "\n",
    "|         | Predicted Fail           | Predicted No Fail  |\n",
    "| ------------- |------------| -----:|\n",
    "| **Actual Fail**      | 226 | 30 |\n",
    "| **Actual No Fail**   | 1200 | 254045 |\n",
    "\n",
    "\n",
    "**Marking**\n",
    "\n",
    "- *Quality*. Response is well-justified and convincing. \n",
    "- *Style*. Response uses proper grammar, spelling, and punctuation. Response is clear and professional. Response is complete, but not overly-verbose. Response follows length guidelines.\n",
    "\n",
    "\n",
    "\n",
    "**Tips**\n",
    "\n",
    "- Figure out how much Uncle Steve is currently (i.e., without any predictive maintinance models) paying in maintenance costs.\n",
    "- Use the information provided above to create a cost matrix.\n",
    "- Use the cost matrix and the confusion matrices to determine the costs of each model.\n",
    "- The cost of an inspection is the same, no matter if the turbine is in good condition or is about to fail.\n",
    "- If the inspection determines that a turbine is about to fail, then it will be fixed right then and there for the additional fee.\n",
    "- For simplicity, assume the inspections are perfect: i.e., that inspecting a turbine will definitely catch any problems that might exist, and won't accidentally flag an otherwise-healthy turbine.\n",
    "\n"
   ]
  },
  {
   "cell_type": "markdown",
   "metadata": {
    "id": "nAf1SIeKTkfl"
   },
   "source": [
    "From the confusion matrix, we can calculate that the number of actual fails is 226 + 30 = 256. So the total cost of not using any predictive models is 256 * \\$20,000 = \\$5,120,000.\n",
    "\n",
    "Below is the cost matrix.\n",
    "\n",
    "|         | Predicted Fail           | Predicted No Fail  |\n",
    "| ------------- |------------| -----:|\n",
    "| **Actual Fail**      | \\$2,500 | $20,000 |\n",
    "| **Actual No Fail**   | \\$500 | - |\n",
    "\n",
    "Multiplying the above cost matrix with the confusion matrix for the random forest element-wise \n",
    "\n",
    "|         | Predicted Fail           | Predicted No Fail  |\n",
    "| ------------- |------------| -----:|\n",
    "| **Actual Fail**      | 201 | 55 |\n",
    "| **Actual No Fail**   | 50 | 255195 |\n",
    "\n",
    "and then add up all the cost will give the following total cost.\n",
    "\n",
    "$2,500 * 201 + \\$20,000 * 55 + \\$500 * 50 = \\$1,627,500\n",
    "\n",
    "**This means using the random forest model will save Uncle Steve $3,492,500**, justified as below.\n",
    "\n",
    "\\$5,120,000 - \\$1,627,500 = $3,492,500\n",
    "\n",
    "On the other hand, multiplying the cost matrix with the confusion matrix for the RNN element-wise \n",
    "\n",
    "|         | Predicted Fail           | Predicted No Fail  |\n",
    "| ------------- |------------| -----:|\n",
    "| **Actual Fail**      | 226 | 30 |\n",
    "| **Actual No Fail**   | 1200 | 254045 |\n",
    "\n",
    "and then add up all the cost will give the following total cost if we use RNN model.\n",
    "\n",
    "$2,500 * 226 + \\$20,000 * 30 + \\$500 * 1200 = \\$1,765,000\n",
    "\n",
    "**This means using the RNN model will save Uncle Steve $3,355,000**, justified as below.\n",
    "\n",
    "\\$5,120,000 - \\$1,765,000 = $3,355,000\n",
    "\n",
    "**In conclusion, since \\$3,492,500 > $3,355,000, random forest model is a better choice because it saves more money for Uncle Steve.**"
   ]
  }
 ],
 "metadata": {
  "colab": {
   "collapsed_sections": [],
   "name": "MMAI 2022 869 Individual Assignment.ipynb",
   "provenance": []
  },
  "kernelspec": {
   "display_name": "Python 3 (ipykernel)",
   "language": "python",
   "name": "python3"
  },
  "language_info": {
   "codemirror_mode": {
    "name": "ipython",
    "version": 3
   },
   "file_extension": ".py",
   "mimetype": "text/x-python",
   "name": "python",
   "nbconvert_exporter": "python",
   "pygments_lexer": "ipython3",
   "version": "3.7.2"
  }
 },
 "nbformat": 4,
 "nbformat_minor": 1
}
